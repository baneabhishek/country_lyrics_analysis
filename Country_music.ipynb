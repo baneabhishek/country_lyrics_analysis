{
  "nbformat": 4,
  "nbformat_minor": 0,
  "metadata": {
    "kernelspec": {
      "name": "python3",
      "display_name": "Python 3.8.5 64-bit ('base': conda)"
    },
    "language_info": {
      "codemirror_mode": {
        "name": "ipython",
        "version": 3
      },
      "file_extension": ".py",
      "mimetype": "text/x-python",
      "name": "python",
      "nbconvert_exporter": "python",
      "pygments_lexer": "ipython3",
      "version": "3.8.5"
    },
    "interpreter": {
      "hash": "30da0f210c34841292f8223c1938a5edbe0c3af5a8e2b9354b0b65158feaead2"
    },
    "colab": {
      "name": "Country_music.ipynb",
      "provenance": []
    }
  },
  "cells": [
    {
      "cell_type": "code",
      "metadata": {
        "colab": {
          "base_uri": "https://localhost:8080/"
        },
        "id": "8FBVwI1QnKsE",
        "outputId": "3ed4fe78-1ccf-4e87-de93-b4780f3230ee"
      },
      "source": [
        "from google.colab import drive\n",
        "drive.mount('/content/drive')"
      ],
      "execution_count": 1,
      "outputs": [
        {
          "output_type": "stream",
          "name": "stdout",
          "text": [
            "Mounted at /content/drive\n"
          ]
        }
      ]
    },
    {
      "cell_type": "code",
      "metadata": {
        "id": "s1fTX0xvnFLK"
      },
      "source": [
        "import pandas as pd\n",
        "import numpy as np\n",
        "import matplotlib.pyplot as plt"
      ],
      "execution_count": 65,
      "outputs": []
    },
    {
      "cell_type": "code",
      "metadata": {
        "id": "OSnfyKYWnFLL"
      },
      "source": [
        "data = pd.read_excel('/content/drive/MyDrive/country_lyrics.xlsx')"
      ],
      "execution_count": 4,
      "outputs": []
    },
    {
      "cell_type": "code",
      "metadata": {
        "colab": {
          "base_uri": "https://localhost:8080/",
          "height": 335
        },
        "id": "q6q4hGC0nFLL",
        "outputId": "e5c9bd2c-208e-4249-9f5f-ceeb504317b5"
      },
      "source": [
        "data.head()"
      ],
      "execution_count": 5,
      "outputs": [
        {
          "output_type": "execute_result",
          "data": {
            "text/html": [
              "<div>\n",
              "<style scoped>\n",
              "    .dataframe tbody tr th:only-of-type {\n",
              "        vertical-align: middle;\n",
              "    }\n",
              "\n",
              "    .dataframe tbody tr th {\n",
              "        vertical-align: top;\n",
              "    }\n",
              "\n",
              "    .dataframe thead th {\n",
              "        text-align: right;\n",
              "    }\n",
              "</style>\n",
              "<table border=\"1\" class=\"dataframe\">\n",
              "  <thead>\n",
              "    <tr style=\"text-align: right;\">\n",
              "      <th></th>\n",
              "      <th>Song</th>\n",
              "      <th>Artist</th>\n",
              "      <th>Featuring</th>\n",
              "      <th>Entered Top 30 In:</th>\n",
              "      <th>Lyrics</th>\n",
              "      <th>Writers</th>\n",
              "      <th>Producer</th>\n",
              "      <th>Rough Order</th>\n",
              "      <th>Unnamed: 8</th>\n",
              "      <th>RULES!!!! Top 30 Country Airplay From March 2014-March 2017</th>\n",
              "    </tr>\n",
              "  </thead>\n",
              "  <tbody>\n",
              "    <tr>\n",
              "      <th>0</th>\n",
              "      <td>Wake Up Lovin You</td>\n",
              "      <td>Craig Morgan</td>\n",
              "      <td>NaN</td>\n",
              "      <td>2013</td>\n",
              "      <td>My friends call me up 'cause they know I'm dow...</td>\n",
              "      <td>Josh Osborne, Matthew Ramsey, Trevor Rosen</td>\n",
              "      <td>Craig Morgan, Phil O'Donnell</td>\n",
              "      <td>1</td>\n",
              "      <td>NaN</td>\n",
              "      <td>NaN</td>\n",
              "    </tr>\n",
              "    <tr>\n",
              "      <th>1</th>\n",
              "      <td>Young Love</td>\n",
              "      <td>Kip Moore</td>\n",
              "      <td>NaN</td>\n",
              "      <td>2013</td>\n",
              "      <td>Your daddy thought I was wrong for you, Thinki...</td>\n",
              "      <td>Kip Moore, Dan Couch, Westin Davis</td>\n",
              "      <td>Brett James</td>\n",
              "      <td>2</td>\n",
              "      <td>NaN</td>\n",
              "      <td>NaN</td>\n",
              "    </tr>\n",
              "    <tr>\n",
              "      <th>2</th>\n",
              "      <td>Beat of the Music</td>\n",
              "      <td>Brett Eldredge</td>\n",
              "      <td>NaN</td>\n",
              "      <td>2013</td>\n",
              "      <td>Well I just met you a couple hours ago My last...</td>\n",
              "      <td>Brett Eldredge, Ross Copperman, Heather Morgan</td>\n",
              "      <td>Brett Eldredge, Ross Copperman</td>\n",
              "      <td>3</td>\n",
              "      <td>NaN</td>\n",
              "      <td>NaN</td>\n",
              "    </tr>\n",
              "    <tr>\n",
              "      <th>3</th>\n",
              "      <td>The Heart of Dixie</td>\n",
              "      <td>Danielle Bradbery</td>\n",
              "      <td>NaN</td>\n",
              "      <td>2013</td>\n",
              "      <td>She had a dead-end job at the National Bank An...</td>\n",
              "      <td>Brett James, Caitlyn Smith, Troy Verges</td>\n",
              "      <td>Brett James</td>\n",
              "      <td>4</td>\n",
              "      <td>NaN</td>\n",
              "      <td>NaN</td>\n",
              "    </tr>\n",
              "    <tr>\n",
              "      <th>4</th>\n",
              "      <td>Everything I Shouldn't Be Thinking About</td>\n",
              "      <td>Thompson Square</td>\n",
              "      <td>NaN</td>\n",
              "      <td>2013</td>\n",
              "      <td>My motorcycle needs an oil change Fence needs ...</td>\n",
              "      <td>Keifer Thompson, Shawna Thompson, David Lee Mu...</td>\n",
              "      <td>RIch Redmond, Kurt Allison, Tully Kennedy, Dav...</td>\n",
              "      <td>5</td>\n",
              "      <td>NaN</td>\n",
              "      <td>NaN</td>\n",
              "    </tr>\n",
              "  </tbody>\n",
              "</table>\n",
              "</div>"
            ],
            "text/plain": [
              "                                       Song  ... RULES!!!! Top 30 Country Airplay From March 2014-March 2017\n",
              "0                         Wake Up Lovin You  ...                                                NaN         \n",
              "1                                Young Love  ...                                                NaN         \n",
              "2                         Beat of the Music  ...                                                NaN         \n",
              "3                        The Heart of Dixie  ...                                                NaN         \n",
              "4  Everything I Shouldn't Be Thinking About  ...                                                NaN         \n",
              "\n",
              "[5 rows x 10 columns]"
            ]
          },
          "metadata": {},
          "execution_count": 5
        }
      ]
    },
    {
      "cell_type": "code",
      "metadata": {
        "colab": {
          "base_uri": "https://localhost:8080/"
        },
        "id": "wk76S2V0nFLL",
        "outputId": "8b06e9e9-5bec-4dce-805c-fcb38dc28cf4"
      },
      "source": [
        "data.columns"
      ],
      "execution_count": 6,
      "outputs": [
        {
          "output_type": "execute_result",
          "data": {
            "text/plain": [
              "Index(['Song', 'Artist', 'Featuring', 'Entered Top 30 In:', 'Lyrics',\n",
              "       'Writers', 'Producer', 'Rough Order', 'Unnamed: 8',\n",
              "       'RULES!!!! Top 30 Country Airplay From March 2014-March 2017'],\n",
              "      dtype='object')"
            ]
          },
          "metadata": {},
          "execution_count": 6
        }
      ]
    },
    {
      "cell_type": "code",
      "metadata": {
        "id": "YI0Td36gnFLL"
      },
      "source": [
        "dataset = data.iloc[:,:8]"
      ],
      "execution_count": 7,
      "outputs": []
    },
    {
      "cell_type": "code",
      "metadata": {
        "colab": {
          "base_uri": "https://localhost:8080/",
          "height": 355
        },
        "id": "av088ZPdnFLL",
        "outputId": "4c0dba70-b226-40c8-8c44-4192ea4239ab"
      },
      "source": [
        "dataset[['Artist','Song']].groupby(['Artist']).count().sort_values(by='Song',ascending=False).reset_index().head(10)"
      ],
      "execution_count": 8,
      "outputs": [
        {
          "output_type": "execute_result",
          "data": {
            "text/html": [
              "<div>\n",
              "<style scoped>\n",
              "    .dataframe tbody tr th:only-of-type {\n",
              "        vertical-align: middle;\n",
              "    }\n",
              "\n",
              "    .dataframe tbody tr th {\n",
              "        vertical-align: top;\n",
              "    }\n",
              "\n",
              "    .dataframe thead th {\n",
              "        text-align: right;\n",
              "    }\n",
              "</style>\n",
              "<table border=\"1\" class=\"dataframe\">\n",
              "  <thead>\n",
              "    <tr style=\"text-align: right;\">\n",
              "      <th></th>\n",
              "      <th>Artist</th>\n",
              "      <th>Song</th>\n",
              "    </tr>\n",
              "  </thead>\n",
              "  <tbody>\n",
              "    <tr>\n",
              "      <th>0</th>\n",
              "      <td>Luke Bryan</td>\n",
              "      <td>16</td>\n",
              "    </tr>\n",
              "    <tr>\n",
              "      <th>1</th>\n",
              "      <td>Blake Shelton</td>\n",
              "      <td>15</td>\n",
              "    </tr>\n",
              "    <tr>\n",
              "      <th>2</th>\n",
              "      <td>Thomas Rhett</td>\n",
              "      <td>14</td>\n",
              "    </tr>\n",
              "    <tr>\n",
              "      <th>3</th>\n",
              "      <td>Jason Aldean</td>\n",
              "      <td>14</td>\n",
              "    </tr>\n",
              "    <tr>\n",
              "      <th>4</th>\n",
              "      <td>Florida Georgia Line</td>\n",
              "      <td>13</td>\n",
              "    </tr>\n",
              "    <tr>\n",
              "      <th>5</th>\n",
              "      <td>Keith Urban</td>\n",
              "      <td>12</td>\n",
              "    </tr>\n",
              "    <tr>\n",
              "      <th>6</th>\n",
              "      <td>Tim McGraw</td>\n",
              "      <td>11</td>\n",
              "    </tr>\n",
              "    <tr>\n",
              "      <th>7</th>\n",
              "      <td>Kenny Chesney</td>\n",
              "      <td>11</td>\n",
              "    </tr>\n",
              "    <tr>\n",
              "      <th>8</th>\n",
              "      <td>Eric Church</td>\n",
              "      <td>11</td>\n",
              "    </tr>\n",
              "    <tr>\n",
              "      <th>9</th>\n",
              "      <td>Cole Swindell</td>\n",
              "      <td>10</td>\n",
              "    </tr>\n",
              "  </tbody>\n",
              "</table>\n",
              "</div>"
            ],
            "text/plain": [
              "                 Artist  Song\n",
              "0            Luke Bryan    16\n",
              "1         Blake Shelton    15\n",
              "2          Thomas Rhett    14\n",
              "3          Jason Aldean    14\n",
              "4  Florida Georgia Line    13\n",
              "5           Keith Urban    12\n",
              "6            Tim McGraw    11\n",
              "7         Kenny Chesney    11\n",
              "8           Eric Church    11\n",
              "9         Cole Swindell    10"
            ]
          },
          "metadata": {},
          "execution_count": 8
        }
      ]
    },
    {
      "cell_type": "code",
      "metadata": {
        "colab": {
          "base_uri": "https://localhost:8080/",
          "height": 355
        },
        "id": "X03cumF_nFLM",
        "outputId": "e447f656-c3dd-40f2-e80e-eca54d52302d"
      },
      "source": [
        "dataset[['Producer','Song']].groupby(['Producer']).count().sort_values(by='Song',ascending=False).reset_index().head(10)"
      ],
      "execution_count": 9,
      "outputs": [
        {
          "output_type": "execute_result",
          "data": {
            "text/html": [
              "<div>\n",
              "<style scoped>\n",
              "    .dataframe tbody tr th:only-of-type {\n",
              "        vertical-align: middle;\n",
              "    }\n",
              "\n",
              "    .dataframe tbody tr th {\n",
              "        vertical-align: top;\n",
              "    }\n",
              "\n",
              "    .dataframe thead th {\n",
              "        text-align: right;\n",
              "    }\n",
              "</style>\n",
              "<table border=\"1\" class=\"dataframe\">\n",
              "  <thead>\n",
              "    <tr style=\"text-align: right;\">\n",
              "      <th></th>\n",
              "      <th>Producer</th>\n",
              "      <th>Song</th>\n",
              "    </tr>\n",
              "  </thead>\n",
              "  <tbody>\n",
              "    <tr>\n",
              "      <th>0</th>\n",
              "      <td>Dann Huff</td>\n",
              "      <td>31</td>\n",
              "    </tr>\n",
              "    <tr>\n",
              "      <th>1</th>\n",
              "      <td>Jay Joyce</td>\n",
              "      <td>27</td>\n",
              "    </tr>\n",
              "    <tr>\n",
              "      <th>2</th>\n",
              "      <td>Joey Moi</td>\n",
              "      <td>26</td>\n",
              "    </tr>\n",
              "    <tr>\n",
              "      <th>3</th>\n",
              "      <td>Scott Hendricks</td>\n",
              "      <td>23</td>\n",
              "    </tr>\n",
              "    <tr>\n",
              "      <th>4</th>\n",
              "      <td>Michael Knox</td>\n",
              "      <td>14</td>\n",
              "    </tr>\n",
              "    <tr>\n",
              "      <th>5</th>\n",
              "      <td>Ross Copperman</td>\n",
              "      <td>11</td>\n",
              "    </tr>\n",
              "    <tr>\n",
              "      <th>6</th>\n",
              "      <td>Jeff Stevens, Jody Stevens</td>\n",
              "      <td>11</td>\n",
              "    </tr>\n",
              "    <tr>\n",
              "      <th>7</th>\n",
              "      <td>Michael Carter</td>\n",
              "      <td>10</td>\n",
              "    </tr>\n",
              "    <tr>\n",
              "      <th>8</th>\n",
              "      <td>Shane McAnally</td>\n",
              "      <td>9</td>\n",
              "    </tr>\n",
              "    <tr>\n",
              "      <th>9</th>\n",
              "      <td>busbee</td>\n",
              "      <td>8</td>\n",
              "    </tr>\n",
              "  </tbody>\n",
              "</table>\n",
              "</div>"
            ],
            "text/plain": [
              "                     Producer  Song\n",
              "0                   Dann Huff    31\n",
              "1                   Jay Joyce    27\n",
              "2                    Joey Moi    26\n",
              "3             Scott Hendricks    23\n",
              "4                Michael Knox    14\n",
              "5              Ross Copperman    11\n",
              "6  Jeff Stevens, Jody Stevens    11\n",
              "7              Michael Carter    10\n",
              "8              Shane McAnally     9\n",
              "9                      busbee     8"
            ]
          },
          "metadata": {},
          "execution_count": 9
        }
      ]
    },
    {
      "cell_type": "code",
      "metadata": {
        "colab": {
          "base_uri": "https://localhost:8080/"
        },
        "id": "Szqz6jgDnFLM",
        "outputId": "c958dcab-bb88-4afd-ff21-5c5d993f6499"
      },
      "source": [
        "print(len(dataset.Producer.unique()))\n",
        "print(len(dataset.Artist.unique()))"
      ],
      "execution_count": 10,
      "outputs": [
        {
          "output_type": "stream",
          "name": "stdout",
          "text": [
            "180\n",
            "121\n"
          ]
        }
      ]
    },
    {
      "cell_type": "code",
      "metadata": {
        "id": "GQuX_mOQnFLM"
      },
      "source": [
        "dataset['temp'] = dataset.Producer.str.split(',')\n",
        "dataset_prod = (dataset.set_index(['Song', 'Artist', 'Featuring', 'Entered Top 30 In:', 'Lyrics','Writers', 'Producer', 'Rough Order'])['temp'].apply(pd.Series).stack().reset_index().drop('level_8', axis=1).rename(columns={0:'all_producers'}))"
      ],
      "execution_count": 11,
      "outputs": []
    },
    {
      "cell_type": "code",
      "metadata": {
        "colab": {
          "base_uri": "https://localhost:8080/",
          "height": 355
        },
        "id": "a4hpuakfnFLM",
        "outputId": "8fd1717b-3158-4f58-f8ed-76d3f9941b81"
      },
      "source": [
        "dataset_prod[['all_producers','Song']].groupby(['all_producers']).count().sort_values(by='Song',ascending=False).reset_index().head(10)"
      ],
      "execution_count": 12,
      "outputs": [
        {
          "output_type": "execute_result",
          "data": {
            "text/html": [
              "<div>\n",
              "<style scoped>\n",
              "    .dataframe tbody tr th:only-of-type {\n",
              "        vertical-align: middle;\n",
              "    }\n",
              "\n",
              "    .dataframe tbody tr th {\n",
              "        vertical-align: top;\n",
              "    }\n",
              "\n",
              "    .dataframe thead th {\n",
              "        text-align: right;\n",
              "    }\n",
              "</style>\n",
              "<table border=\"1\" class=\"dataframe\">\n",
              "  <thead>\n",
              "    <tr style=\"text-align: right;\">\n",
              "      <th></th>\n",
              "      <th>all_producers</th>\n",
              "      <th>Song</th>\n",
              "    </tr>\n",
              "  </thead>\n",
              "  <tbody>\n",
              "    <tr>\n",
              "      <th>0</th>\n",
              "      <td>Dann Huff</td>\n",
              "      <td>51</td>\n",
              "    </tr>\n",
              "    <tr>\n",
              "      <th>1</th>\n",
              "      <td>Joey Moi</td>\n",
              "      <td>28</td>\n",
              "    </tr>\n",
              "    <tr>\n",
              "      <th>2</th>\n",
              "      <td>Jay Joyce</td>\n",
              "      <td>27</td>\n",
              "    </tr>\n",
              "    <tr>\n",
              "      <th>3</th>\n",
              "      <td>Scott Hendricks</td>\n",
              "      <td>24</td>\n",
              "    </tr>\n",
              "    <tr>\n",
              "      <th>4</th>\n",
              "      <td>Ross Copperman</td>\n",
              "      <td>22</td>\n",
              "    </tr>\n",
              "    <tr>\n",
              "      <th>5</th>\n",
              "      <td>Jeff Stevens</td>\n",
              "      <td>15</td>\n",
              "    </tr>\n",
              "    <tr>\n",
              "      <th>6</th>\n",
              "      <td>Michael Knox</td>\n",
              "      <td>14</td>\n",
              "    </tr>\n",
              "    <tr>\n",
              "      <th>7</th>\n",
              "      <td>Zach Crowell</td>\n",
              "      <td>13</td>\n",
              "    </tr>\n",
              "    <tr>\n",
              "      <th>8</th>\n",
              "      <td>Byron Gallimore</td>\n",
              "      <td>12</td>\n",
              "    </tr>\n",
              "    <tr>\n",
              "      <th>9</th>\n",
              "      <td>busbee</td>\n",
              "      <td>12</td>\n",
              "    </tr>\n",
              "  </tbody>\n",
              "</table>\n",
              "</div>"
            ],
            "text/plain": [
              "     all_producers  Song\n",
              "0        Dann Huff    51\n",
              "1         Joey Moi    28\n",
              "2        Jay Joyce    27\n",
              "3  Scott Hendricks    24\n",
              "4   Ross Copperman    22\n",
              "5     Jeff Stevens    15\n",
              "6     Michael Knox    14\n",
              "7     Zach Crowell    13\n",
              "8  Byron Gallimore    12\n",
              "9           busbee    12"
            ]
          },
          "metadata": {},
          "execution_count": 12
        }
      ]
    },
    {
      "cell_type": "code",
      "metadata": {
        "colab": {
          "base_uri": "https://localhost:8080/",
          "height": 202
        },
        "id": "aqeWOx61nFLM",
        "outputId": "43a9575f-6664-459c-df42-087e6fd87179"
      },
      "source": [
        "data_lyrics = data.iloc[:,4:5]\n",
        "data_lyrics.head()"
      ],
      "execution_count": 13,
      "outputs": [
        {
          "output_type": "execute_result",
          "data": {
            "text/html": [
              "<div>\n",
              "<style scoped>\n",
              "    .dataframe tbody tr th:only-of-type {\n",
              "        vertical-align: middle;\n",
              "    }\n",
              "\n",
              "    .dataframe tbody tr th {\n",
              "        vertical-align: top;\n",
              "    }\n",
              "\n",
              "    .dataframe thead th {\n",
              "        text-align: right;\n",
              "    }\n",
              "</style>\n",
              "<table border=\"1\" class=\"dataframe\">\n",
              "  <thead>\n",
              "    <tr style=\"text-align: right;\">\n",
              "      <th></th>\n",
              "      <th>Lyrics</th>\n",
              "    </tr>\n",
              "  </thead>\n",
              "  <tbody>\n",
              "    <tr>\n",
              "      <th>0</th>\n",
              "      <td>My friends call me up 'cause they know I'm dow...</td>\n",
              "    </tr>\n",
              "    <tr>\n",
              "      <th>1</th>\n",
              "      <td>Your daddy thought I was wrong for you, Thinki...</td>\n",
              "    </tr>\n",
              "    <tr>\n",
              "      <th>2</th>\n",
              "      <td>Well I just met you a couple hours ago My last...</td>\n",
              "    </tr>\n",
              "    <tr>\n",
              "      <th>3</th>\n",
              "      <td>She had a dead-end job at the National Bank An...</td>\n",
              "    </tr>\n",
              "    <tr>\n",
              "      <th>4</th>\n",
              "      <td>My motorcycle needs an oil change Fence needs ...</td>\n",
              "    </tr>\n",
              "  </tbody>\n",
              "</table>\n",
              "</div>"
            ],
            "text/plain": [
              "                                              Lyrics\n",
              "0  My friends call me up 'cause they know I'm dow...\n",
              "1  Your daddy thought I was wrong for you, Thinki...\n",
              "2  Well I just met you a couple hours ago My last...\n",
              "3  She had a dead-end job at the National Bank An...\n",
              "4  My motorcycle needs an oil change Fence needs ..."
            ]
          },
          "metadata": {},
          "execution_count": 13
        }
      ]
    },
    {
      "cell_type": "code",
      "metadata": {
        "colab": {
          "base_uri": "https://localhost:8080/"
        },
        "id": "-Uj5uGuqnFLM",
        "outputId": "92e248f2-8fbb-4bbb-84a9-0c6c205f699a"
      },
      "source": [
        "import re\n",
        "import nltk\n",
        "from nltk.tokenize import RegexpTokenizer\n",
        "nltk.download('stopwords')\n",
        "from nltk.corpus import stopwords"
      ],
      "execution_count": 14,
      "outputs": [
        {
          "output_type": "stream",
          "name": "stdout",
          "text": [
            "[nltk_data] Downloading package stopwords to /root/nltk_data...\n",
            "[nltk_data]   Unzipping corpora/stopwords.zip.\n"
          ]
        }
      ]
    },
    {
      "cell_type": "code",
      "metadata": {
        "id": "NsxxRBR9nFLM"
      },
      "source": [
        "my_stopwords = nltk.corpus.stopwords.words('english')\n",
        "word_rooter = nltk.stem.snowball.PorterStemmer(ignore_stopwords=False).stem\n",
        "my_punctuation = '!\"$%&\\'()*+,-./:;<=>?[\\\\]^_`{|}~•@'\n",
        "\n",
        "# cleaning function\n",
        "def clean_lyrics(lyrics, bigrams=False, stemm=False):\n",
        "    lyrics = lyrics.lower() # lower case\n",
        "    lyrics = re.sub('['+my_punctuation + ']+', ' ', lyrics) # strip punctuation\n",
        "    lyrics = re.sub('\\s+', ' ', lyrics) #remove double spacing\n",
        "    lyrics = re.sub('([0-9]+)', '', lyrics) # remove numbers\n",
        "    lyrics_token_list = [word for word in lyrics.split(' ') if word not in my_stopwords] # remove stopwords\n",
        "\n",
        "    if stemm:\n",
        "      lyrics_token_list = [word_rooter(word) if '#' not in word else word for word in lyrics_token_list] # apply word rooter\n",
        "    \n",
        "    if bigrams:\n",
        "        lyrics_token_list = lyrics_token_list+[lyrics_token_list[i]+'_'+lyrics_token_list[i+1]\n",
        "                                            for i in range(len(lyrics_token_list)-1)]\n",
        "    lyrics = ' '.join(lyrics_token_list)\n",
        "    return lyrics"
      ],
      "execution_count": 15,
      "outputs": []
    },
    {
      "cell_type": "code",
      "metadata": {
        "id": "6-lOO607nFLN"
      },
      "source": [
        "data_lyrics['Lyrics'] = data_lyrics.Lyrics.apply(clean_lyrics)"
      ],
      "execution_count": 16,
      "outputs": []
    },
    {
      "cell_type": "code",
      "metadata": {
        "colab": {
          "base_uri": "https://localhost:8080/",
          "height": 202
        },
        "id": "ey64HZAwpJy4",
        "outputId": "42bca889-e95a-4086-b3c5-5a43fa0f9bf0"
      },
      "source": [
        "data_lyrics.head()"
      ],
      "execution_count": 17,
      "outputs": [
        {
          "output_type": "execute_result",
          "data": {
            "text/html": [
              "<div>\n",
              "<style scoped>\n",
              "    .dataframe tbody tr th:only-of-type {\n",
              "        vertical-align: middle;\n",
              "    }\n",
              "\n",
              "    .dataframe tbody tr th {\n",
              "        vertical-align: top;\n",
              "    }\n",
              "\n",
              "    .dataframe thead th {\n",
              "        text-align: right;\n",
              "    }\n",
              "</style>\n",
              "<table border=\"1\" class=\"dataframe\">\n",
              "  <thead>\n",
              "    <tr style=\"text-align: right;\">\n",
              "      <th></th>\n",
              "      <th>Lyrics</th>\n",
              "    </tr>\n",
              "  </thead>\n",
              "  <tbody>\n",
              "    <tr>\n",
              "      <th>0</th>\n",
              "      <td>friends call cause know take paint town help g...</td>\n",
              "    </tr>\n",
              "    <tr>\n",
              "      <th>1</th>\n",
              "      <td>daddy thought wrong thinking back mom two wron...</td>\n",
              "    </tr>\n",
              "    <tr>\n",
              "      <th>2</th>\n",
              "      <td>well met couple hours ago last night town hey ...</td>\n",
              "    </tr>\n",
              "    <tr>\n",
              "      <th>3</th>\n",
              "      <td>dead end job national bank deadbeat husband al...</td>\n",
              "    </tr>\n",
              "    <tr>\n",
              "      <th>4</th>\n",
              "      <td>motorcycle needs oil change fence needs mendin...</td>\n",
              "    </tr>\n",
              "  </tbody>\n",
              "</table>\n",
              "</div>"
            ],
            "text/plain": [
              "                                              Lyrics\n",
              "0  friends call cause know take paint town help g...\n",
              "1  daddy thought wrong thinking back mom two wron...\n",
              "2  well met couple hours ago last night town hey ...\n",
              "3  dead end job national bank deadbeat husband al...\n",
              "4  motorcycle needs oil change fence needs mendin..."
            ]
          },
          "metadata": {},
          "execution_count": 17
        }
      ]
    },
    {
      "cell_type": "code",
      "metadata": {
        "id": "dlrmB-JvpLre"
      },
      "source": [
        "from sklearn.feature_extraction.text import CountVectorizer, TfidfVectorizer\n",
        "\n",
        "## LDA\n",
        "# the vectorizer object will be used to transform text to vector form\n",
        "vectorizer = CountVectorizer(max_df=0.9, min_df=2, max_features=1000)\n",
        "# apply transformation\n",
        "tf = vectorizer.fit_transform(data_lyrics['Lyrics']).toarray()\n",
        "# tf_feature_names tells us what word each column in the matric represents\n",
        "tf_feature_names = vectorizer.get_feature_names()\n",
        "\n",
        "\n",
        "## NMF\n",
        "# NMF is able to use tf-idf\n",
        "tfidf_vectorizer = TfidfVectorizer(max_df=0.95, min_df=2, max_features=1000, stop_words='english')\n",
        "tfidf = tfidf_vectorizer.fit_transform(data_lyrics['Lyrics'])\n",
        "tfidf_feature_names = tfidf_vectorizer.get_feature_names()"
      ],
      "execution_count": 18,
      "outputs": []
    },
    {
      "cell_type": "code",
      "metadata": {
        "colab": {
          "base_uri": "https://localhost:8080/"
        },
        "id": "P1xwTvHqprOt",
        "outputId": "d8484186-4ce2-49b2-f517-f2ab7997afb0"
      },
      "source": [
        "tf.shape"
      ],
      "execution_count": 19,
      "outputs": [
        {
          "output_type": "execute_result",
          "data": {
            "text/plain": [
              "(484, 1000)"
            ]
          },
          "metadata": {},
          "execution_count": 19
        }
      ]
    },
    {
      "cell_type": "code",
      "metadata": {
        "colab": {
          "base_uri": "https://localhost:8080/"
        },
        "id": "vc60ue0Vpsm0",
        "outputId": "6e121240-80b9-419d-db2d-deb6ff3698d1"
      },
      "source": [
        "tfidf.shape"
      ],
      "execution_count": 20,
      "outputs": [
        {
          "output_type": "execute_result",
          "data": {
            "text/plain": [
              "(484, 1000)"
            ]
          },
          "metadata": {},
          "execution_count": 20
        }
      ]
    },
    {
      "cell_type": "markdown",
      "metadata": {
        "id": "HTXom1Xn4TJ9"
      },
      "source": [
        "## Added NMF alsong with LDA\n",
        "NMF gives better topics than the topics defined by LDA"
      ]
    },
    {
      "cell_type": "code",
      "metadata": {
        "id": "xNR1Cscsp5rP"
      },
      "source": [
        "from sklearn.decomposition import LatentDirichletAllocation, NMF\n",
        "\n",
        "number_of_topics = 5\n",
        "model_lda = LatentDirichletAllocation(n_components=number_of_topics, random_state=10, batch_size=32)\n",
        "model_nmf = NMF(n_components=number_of_topics, random_state=1, alpha=.1, l1_ratio=.5, init='nndsvd')"
      ],
      "execution_count": 25,
      "outputs": []
    },
    {
      "cell_type": "code",
      "metadata": {
        "colab": {
          "base_uri": "https://localhost:8080/"
        },
        "id": "zWiMv4n-qHOS",
        "outputId": "cfdea1a5-8d4a-4984-a91a-40843ecb3c78"
      },
      "source": [
        "print(model_lda.fit(tf))\n",
        "print(model_nmf.fit(tfidf))"
      ],
      "execution_count": 26,
      "outputs": [
        {
          "output_type": "stream",
          "name": "stdout",
          "text": [
            "LatentDirichletAllocation(batch_size=32, doc_topic_prior=None,\n",
            "                          evaluate_every=-1, learning_decay=0.7,\n",
            "                          learning_method='batch', learning_offset=10.0,\n",
            "                          max_doc_update_iter=100, max_iter=10,\n",
            "                          mean_change_tol=0.001, n_components=5, n_jobs=None,\n",
            "                          perp_tol=0.1, random_state=10, topic_word_prior=None,\n",
            "                          total_samples=1000000.0, verbose=0)\n",
            "NMF(alpha=0.1, beta_loss='frobenius', init='nndsvd', l1_ratio=0.5, max_iter=200,\n",
            "    n_components=5, random_state=1, shuffle=False, solver='cd', tol=0.0001,\n",
            "    verbose=0)\n"
          ]
        }
      ]
    },
    {
      "cell_type": "code",
      "metadata": {
        "id": "IVGR5nHQqI_G"
      },
      "source": [
        "def display_topics(model, feature_names, no_top_words):\n",
        "    topic_dict = {}\n",
        "    for topic_idx, topic in enumerate(model.components_):\n",
        "        topic_dict[\"Topic %d words\" % (topic_idx)]= ['{}'.format(feature_names[i])\n",
        "                        for i in topic.argsort()[:-no_top_words - 1:-1]]\n",
        "        topic_dict[\"Topic %d weights\" % (topic_idx)]= ['{:.1f}'.format(topic[i])\n",
        "                        for i in topic.argsort()[:-no_top_words - 1:-1]]\n",
        "    return pd.DataFrame(topic_dict)"
      ],
      "execution_count": 27,
      "outputs": []
    },
    {
      "cell_type": "code",
      "metadata": {
        "colab": {
          "base_uri": "https://localhost:8080/",
          "height": 355
        },
        "id": "ZwcfVu2WqaVl",
        "outputId": "78410080-430e-4fbe-b811-1d9c9998d1af"
      },
      "source": [
        "no_top_words = 10\n",
        "display_topics(model_lda, tf_feature_names, no_top_words)"
      ],
      "execution_count": 28,
      "outputs": [
        {
          "output_type": "execute_result",
          "data": {
            "text/html": [
              "<div>\n",
              "<style scoped>\n",
              "    .dataframe tbody tr th:only-of-type {\n",
              "        vertical-align: middle;\n",
              "    }\n",
              "\n",
              "    .dataframe tbody tr th {\n",
              "        vertical-align: top;\n",
              "    }\n",
              "\n",
              "    .dataframe thead th {\n",
              "        text-align: right;\n",
              "    }\n",
              "</style>\n",
              "<table border=\"1\" class=\"dataframe\">\n",
              "  <thead>\n",
              "    <tr style=\"text-align: right;\">\n",
              "      <th></th>\n",
              "      <th>Topic 0 words</th>\n",
              "      <th>Topic 0 weights</th>\n",
              "      <th>Topic 1 words</th>\n",
              "      <th>Topic 1 weights</th>\n",
              "      <th>Topic 2 words</th>\n",
              "      <th>Topic 2 weights</th>\n",
              "      <th>Topic 3 words</th>\n",
              "      <th>Topic 3 weights</th>\n",
              "      <th>Topic 4 words</th>\n",
              "      <th>Topic 4 weights</th>\n",
              "    </tr>\n",
              "  </thead>\n",
              "  <tbody>\n",
              "    <tr>\n",
              "      <th>0</th>\n",
              "      <td>one</td>\n",
              "      <td>239.1</td>\n",
              "      <td>love</td>\n",
              "      <td>331.0</td>\n",
              "      <td>oh</td>\n",
              "      <td>545.2</td>\n",
              "      <td>like</td>\n",
              "      <td>414.7</td>\n",
              "      <td>wanna</td>\n",
              "      <td>477.0</td>\n",
              "    </tr>\n",
              "    <tr>\n",
              "      <th>1</th>\n",
              "      <td>like</td>\n",
              "      <td>215.0</td>\n",
              "      <td>like</td>\n",
              "      <td>225.6</td>\n",
              "      <td>like</td>\n",
              "      <td>226.3</td>\n",
              "      <td>got</td>\n",
              "      <td>312.4</td>\n",
              "      <td>girl</td>\n",
              "      <td>470.2</td>\n",
              "    </tr>\n",
              "    <tr>\n",
              "      <th>2</th>\n",
              "      <td>know</td>\n",
              "      <td>159.0</td>\n",
              "      <td>somebody</td>\n",
              "      <td>199.2</td>\n",
              "      <td>little</td>\n",
              "      <td>181.0</td>\n",
              "      <td>get</td>\n",
              "      <td>310.7</td>\n",
              "      <td>yeah</td>\n",
              "      <td>376.9</td>\n",
              "    </tr>\n",
              "    <tr>\n",
              "      <th>3</th>\n",
              "      <td>still</td>\n",
              "      <td>155.4</td>\n",
              "      <td>got</td>\n",
              "      <td>174.4</td>\n",
              "      <td>ooh</td>\n",
              "      <td>158.3</td>\n",
              "      <td>know</td>\n",
              "      <td>307.9</td>\n",
              "      <td>baby</td>\n",
              "      <td>333.0</td>\n",
              "    </tr>\n",
              "    <tr>\n",
              "      <th>4</th>\n",
              "      <td>hey</td>\n",
              "      <td>144.4</td>\n",
              "      <td>know</td>\n",
              "      <td>166.3</td>\n",
              "      <td>love</td>\n",
              "      <td>155.7</td>\n",
              "      <td>baby</td>\n",
              "      <td>252.7</td>\n",
              "      <td>take</td>\n",
              "      <td>286.8</td>\n",
              "    </tr>\n",
              "    <tr>\n",
              "      <th>5</th>\n",
              "      <td>gonna</td>\n",
              "      <td>144.3</td>\n",
              "      <td>gonna</td>\n",
              "      <td>149.3</td>\n",
              "      <td>every</td>\n",
              "      <td>153.4</td>\n",
              "      <td>girl</td>\n",
              "      <td>218.9</td>\n",
              "      <td>back</td>\n",
              "      <td>266.4</td>\n",
              "    </tr>\n",
              "    <tr>\n",
              "      <th>6</th>\n",
              "      <td>yeah</td>\n",
              "      <td>132.7</td>\n",
              "      <td>yeah</td>\n",
              "      <td>146.6</td>\n",
              "      <td>time</td>\n",
              "      <td>133.4</td>\n",
              "      <td>yeah</td>\n",
              "      <td>211.3</td>\n",
              "      <td>tonight</td>\n",
              "      <td>249.0</td>\n",
              "    </tr>\n",
              "    <tr>\n",
              "      <th>7</th>\n",
              "      <td>got</td>\n",
              "      <td>126.0</td>\n",
              "      <td>good</td>\n",
              "      <td>144.5</td>\n",
              "      <td>yeah</td>\n",
              "      <td>129.5</td>\n",
              "      <td>go</td>\n",
              "      <td>200.4</td>\n",
              "      <td>like</td>\n",
              "      <td>219.5</td>\n",
              "    </tr>\n",
              "    <tr>\n",
              "      <th>8</th>\n",
              "      <td>man</td>\n",
              "      <td>125.8</td>\n",
              "      <td>make</td>\n",
              "      <td>131.4</td>\n",
              "      <td>baby</td>\n",
              "      <td>103.5</td>\n",
              "      <td>little</td>\n",
              "      <td>196.7</td>\n",
              "      <td>got</td>\n",
              "      <td>214.9</td>\n",
              "    </tr>\n",
              "    <tr>\n",
              "      <th>9</th>\n",
              "      <td>always</td>\n",
              "      <td>116.4</td>\n",
              "      <td>world</td>\n",
              "      <td>124.5</td>\n",
              "      <td>way</td>\n",
              "      <td>89.6</td>\n",
              "      <td>way</td>\n",
              "      <td>193.9</td>\n",
              "      <td>little</td>\n",
              "      <td>184.7</td>\n",
              "    </tr>\n",
              "  </tbody>\n",
              "</table>\n",
              "</div>"
            ],
            "text/plain": [
              "  Topic 0 words Topic 0 weights  ... Topic 4 words Topic 4 weights\n",
              "0           one           239.1  ...         wanna           477.0\n",
              "1          like           215.0  ...          girl           470.2\n",
              "2          know           159.0  ...          yeah           376.9\n",
              "3         still           155.4  ...          baby           333.0\n",
              "4           hey           144.4  ...          take           286.8\n",
              "5         gonna           144.3  ...          back           266.4\n",
              "6          yeah           132.7  ...       tonight           249.0\n",
              "7           got           126.0  ...          like           219.5\n",
              "8           man           125.8  ...           got           214.9\n",
              "9        always           116.4  ...        little           184.7\n",
              "\n",
              "[10 rows x 10 columns]"
            ]
          },
          "metadata": {},
          "execution_count": 28
        }
      ]
    },
    {
      "cell_type": "code",
      "metadata": {
        "colab": {
          "base_uri": "https://localhost:8080/",
          "height": 355
        },
        "id": "3YUDoRleqclj",
        "outputId": "6ae78637-3912-475c-a47a-8e3aaa370d5e"
      },
      "source": [
        "no_top_words = 10\n",
        "display_topics(model_nmf, tf_feature_names, no_top_words)"
      ],
      "execution_count": 29,
      "outputs": [
        {
          "output_type": "execute_result",
          "data": {
            "text/html": [
              "<div>\n",
              "<style scoped>\n",
              "    .dataframe tbody tr th:only-of-type {\n",
              "        vertical-align: middle;\n",
              "    }\n",
              "\n",
              "    .dataframe tbody tr th {\n",
              "        vertical-align: top;\n",
              "    }\n",
              "\n",
              "    .dataframe thead th {\n",
              "        text-align: right;\n",
              "    }\n",
              "</style>\n",
              "<table border=\"1\" class=\"dataframe\">\n",
              "  <thead>\n",
              "    <tr style=\"text-align: right;\">\n",
              "      <th></th>\n",
              "      <th>Topic 0 words</th>\n",
              "      <th>Topic 0 weights</th>\n",
              "      <th>Topic 1 words</th>\n",
              "      <th>Topic 1 weights</th>\n",
              "      <th>Topic 2 words</th>\n",
              "      <th>Topic 2 weights</th>\n",
              "      <th>Topic 3 words</th>\n",
              "      <th>Topic 3 weights</th>\n",
              "      <th>Topic 4 words</th>\n",
              "      <th>Topic 4 weights</th>\n",
              "    </tr>\n",
              "  </thead>\n",
              "  <tbody>\n",
              "    <tr>\n",
              "      <th>0</th>\n",
              "      <td>left</td>\n",
              "      <td>0.6</td>\n",
              "      <td>needs</td>\n",
              "      <td>1.8</td>\n",
              "      <td>looks</td>\n",
              "      <td>1.9</td>\n",
              "      <td>wasted</td>\n",
              "      <td>1.7</td>\n",
              "      <td>somethin</td>\n",
              "      <td>1.6</td>\n",
              "    </tr>\n",
              "    <tr>\n",
              "      <th>1</th>\n",
              "      <td>friend</td>\n",
              "      <td>0.5</td>\n",
              "      <td>wonder</td>\n",
              "      <td>0.2</td>\n",
              "      <td>nights</td>\n",
              "      <td>0.5</td>\n",
              "      <td>lovin</td>\n",
              "      <td>0.6</td>\n",
              "      <td>glass</td>\n",
              "      <td>0.3</td>\n",
              "    </tr>\n",
              "    <tr>\n",
              "      <th>2</th>\n",
              "      <td>gives</td>\n",
              "      <td>0.5</td>\n",
              "      <td>workin</td>\n",
              "      <td>0.1</td>\n",
              "      <td>hallelujah</td>\n",
              "      <td>0.2</td>\n",
              "      <td>girl</td>\n",
              "      <td>0.6</td>\n",
              "      <td>key</td>\n",
              "      <td>0.2</td>\n",
              "    </tr>\n",
              "    <tr>\n",
              "      <th>3</th>\n",
              "      <td>anywhere</td>\n",
              "      <td>0.5</td>\n",
              "      <td>college</td>\n",
              "      <td>0.1</td>\n",
              "      <td>drown</td>\n",
              "      <td>0.2</td>\n",
              "      <td>loving</td>\n",
              "      <td>0.2</td>\n",
              "      <td>dancing</td>\n",
              "      <td>0.1</td>\n",
              "    </tr>\n",
              "    <tr>\n",
              "      <th>4</th>\n",
              "      <td>year</td>\n",
              "      <td>0.5</td>\n",
              "      <td>made</td>\n",
              "      <td>0.1</td>\n",
              "      <td>bars</td>\n",
              "      <td>0.2</td>\n",
              "      <td>boots</td>\n",
              "      <td>0.2</td>\n",
              "      <td>kisses</td>\n",
              "      <td>0.1</td>\n",
              "    </tr>\n",
              "    <tr>\n",
              "      <th>5</th>\n",
              "      <td>kisses</td>\n",
              "      <td>0.5</td>\n",
              "      <td>wild</td>\n",
              "      <td>0.1</td>\n",
              "      <td>breathe</td>\n",
              "      <td>0.1</td>\n",
              "      <td>laid</td>\n",
              "      <td>0.1</td>\n",
              "      <td>tequila</td>\n",
              "      <td>0.1</td>\n",
              "    </tr>\n",
              "    <tr>\n",
              "      <th>6</th>\n",
              "      <td>like</td>\n",
              "      <td>0.5</td>\n",
              "      <td>thinking</td>\n",
              "      <td>0.1</td>\n",
              "      <td>girl</td>\n",
              "      <td>0.1</td>\n",
              "      <td>clear</td>\n",
              "      <td>0.1</td>\n",
              "      <td>friends</td>\n",
              "      <td>0.1</td>\n",
              "    </tr>\n",
              "    <tr>\n",
              "      <th>7</th>\n",
              "      <td>tin</td>\n",
              "      <td>0.3</td>\n",
              "      <td>quite</td>\n",
              "      <td>0.1</td>\n",
              "      <td>leave</td>\n",
              "      <td>0.1</td>\n",
              "      <td>top</td>\n",
              "      <td>0.1</td>\n",
              "      <td>lie</td>\n",
              "      <td>0.1</td>\n",
              "    </tr>\n",
              "    <tr>\n",
              "      <th>8</th>\n",
              "      <td>red</td>\n",
              "      <td>0.3</td>\n",
              "      <td>gives</td>\n",
              "      <td>0.1</td>\n",
              "      <td>car</td>\n",
              "      <td>0.1</td>\n",
              "      <td>devil</td>\n",
              "      <td>0.1</td>\n",
              "      <td>life</td>\n",
              "      <td>0.0</td>\n",
              "    </tr>\n",
              "    <tr>\n",
              "      <th>9</th>\n",
              "      <td>girls</td>\n",
              "      <td>0.3</td>\n",
              "      <td>neon</td>\n",
              "      <td>0.1</td>\n",
              "      <td>hangover</td>\n",
              "      <td>0.1</td>\n",
              "      <td>dust</td>\n",
              "      <td>0.1</td>\n",
              "      <td>beat</td>\n",
              "      <td>0.0</td>\n",
              "    </tr>\n",
              "  </tbody>\n",
              "</table>\n",
              "</div>"
            ],
            "text/plain": [
              "  Topic 0 words Topic 0 weights  ... Topic 4 words Topic 4 weights\n",
              "0          left             0.6  ...      somethin             1.6\n",
              "1        friend             0.5  ...         glass             0.3\n",
              "2         gives             0.5  ...           key             0.2\n",
              "3      anywhere             0.5  ...       dancing             0.1\n",
              "4          year             0.5  ...        kisses             0.1\n",
              "5        kisses             0.5  ...       tequila             0.1\n",
              "6          like             0.5  ...       friends             0.1\n",
              "7           tin             0.3  ...           lie             0.1\n",
              "8           red             0.3  ...          life             0.0\n",
              "9         girls             0.3  ...          beat             0.0\n",
              "\n",
              "[10 rows x 10 columns]"
            ]
          },
          "metadata": {},
          "execution_count": 29
        }
      ]
    },
    {
      "cell_type": "markdown",
      "metadata": {
        "id": "mOoEuF6P4dlt"
      },
      "source": [
        "## Clustering the lyrics \n",
        "Do a K-means and hierarchical clustering on the lyrics to find similar songs.\n",
        "Do I need clustering? check"
      ]
    },
    {
      "cell_type": "code",
      "metadata": {
        "id": "_JnSeMT4zh7B"
      },
      "source": [
        ""
      ],
      "execution_count": null,
      "outputs": []
    },
    {
      "cell_type": "markdown",
      "metadata": {
        "id": "EHlS_XlU57HE"
      },
      "source": [
        "## Adding new lyrics \n",
        "Adding data for other genres to create a classification model by identifying country songs from the lyrics. Getting data from data.world https://data.world/typhon/billboard-hot-100-songs-2000-2018-w-spotify-data-lyrics\n",
        "The data has lyrics and genres for mostly pop and rock songs. This should make the total data imbalanced and difficult for classification.\n"
      ]
    },
    {
      "cell_type": "code",
      "metadata": {
        "colab": {
          "base_uri": "https://localhost:8080/"
        },
        "id": "uqFrNwcB9-Kw",
        "outputId": "045cfb29-7612-49cc-a997-d292adc7f4f2"
      },
      "source": [
        "## check the encoding of the file\n",
        "import chardet\n",
        "with open('/content/drive/MyDrive/lyrics-data.csv', 'rb') as rawdata:\n",
        "    result = chardet.detect(rawdata.read(100000))\n",
        "result"
      ],
      "execution_count": 47,
      "outputs": [
        {
          "output_type": "execute_result",
          "data": {
            "text/plain": [
              "{'confidence': 0.99, 'encoding': 'utf-8', 'language': ''}"
            ]
          },
          "metadata": {},
          "execution_count": 47
        }
      ]
    },
    {
      "cell_type": "code",
      "metadata": {
        "id": "DTtrA00r6J4x"
      },
      "source": [
        "new_lyrics = pd.read_csv('/content/drive/MyDrive/lyrics-data.csv')"
      ],
      "execution_count": 48,
      "outputs": []
    },
    {
      "cell_type": "code",
      "metadata": {
        "id": "shhVuo7R9Miw"
      },
      "source": [
        "new_lyrics = new_lyrics.iloc[:,3:4]\n",
        "new_lyrics['Lyric'] = new_lyrics.Lyric.apply(clean_lyrics)"
      ],
      "execution_count": 49,
      "outputs": []
    },
    {
      "cell_type": "code",
      "metadata": {
        "id": "Apa_PRHRe3Yd"
      },
      "source": [
        "# create a new column with \n",
        "data_lyrics['label'] = 1\n",
        "new_lyrics['label'] = 0"
      ],
      "execution_count": 50,
      "outputs": []
    },
    {
      "cell_type": "code",
      "metadata": {
        "colab": {
          "base_uri": "https://localhost:8080/"
        },
        "id": "KVrXDNpGiEyP",
        "outputId": "407a96b9-d1d1-4e0f-9002-0b57c73a010e"
      },
      "source": [
        "data_lyrics.columns\n",
        "data_lyrics = data_lyrics.append(new_lyrics.rename(columns={'Lyric':'Lyrics'}), ignore_index=True)"
      ],
      "execution_count": 51,
      "outputs": [
        {
          "output_type": "execute_result",
          "data": {
            "text/plain": [
              "Index(['Lyrics', 'label'], dtype='object')"
            ]
          },
          "metadata": {},
          "execution_count": 51
        }
      ]
    },
    {
      "cell_type": "markdown",
      "metadata": {
        "id": "1SOAjDPljc4X"
      },
      "source": [
        "## Classifying the lyrics\n",
        "Trying to classify songs into country and non country based on lyrics alone. "
      ]
    },
    {
      "cell_type": "markdown",
      "metadata": {
        "id": "repMc8wekSnb"
      },
      "source": [
        "### Exploring data"
      ]
    },
    {
      "cell_type": "code",
      "metadata": {
        "id": "y8XATqZNfvkB"
      },
      "source": [
        "def get_num_words_per_sample(sample_texts):\n",
        "    \"\"\"Returns the median number of words per sample given corpus.\n",
        "\n",
        "    # Arguments\n",
        "        sample_texts: list, sample texts.\n",
        "\n",
        "    # Returns\n",
        "        int, median number of words per sample.\n",
        "    \"\"\"\n",
        "    num_words = [len(s.split()) for s in sample_texts]\n",
        "    return np.median(num_words)\n",
        "\n",
        "def song_length_distribution(data_lyrics):\n",
        "  lyrics_length = list(data_lyrics.Lyrics.str.len())\n",
        "  plt.hist(lyrics_length, 50)\n",
        "  plt.xlabel('Length of a song')\n",
        "  plt.ylabel('Number of songs')\n",
        "  plt.title('Song length distribution')\n",
        "  plt.show()"
      ],
      "execution_count": 1,
      "outputs": []
    },
    {
      "cell_type": "markdown",
      "metadata": {
        "id": "sFagg1d0pv1c"
      },
      "source": [
        "Country songs seem to have more words than songs from other genres"
      ]
    },
    {
      "cell_type": "code",
      "metadata": {
        "colab": {
          "base_uri": "https://localhost:8080/",
          "height": 573
        },
        "id": "Yjp03IJ-hhL8",
        "outputId": "2fe65eca-834c-4ab8-f85c-7f6b5501c8bc"
      },
      "source": [
        "song_length_distribution(data_lyrics[data_lyrics.label == 1])\n",
        "song_length_distribution(data_lyrics[data_lyrics.label == 0])"
      ],
      "execution_count": 70,
      "outputs": [
        {
          "output_type": "display_data",
          "data": {
            "image/png": "[encoded data removed]",
            "text/plain": [
              "<Figure size 432x288 with 1 Axes>"
            ]
          },
          "metadata": {
            "needs_background": "light"
          }
        },
        {
          "output_type": "display_data",
          "data": {
            "image/png": "[encoded data removed]",
            "text/plain": [
              "<Figure size 432x288 with 1 Axes>"
            ]
          },
          "metadata": {
            "needs_background": "light"
          }
        }
      ]
    },
    {
      "cell_type": "code",
      "metadata": {
        "id": "yzyXsjZDiPEd"
      },
      "source": [
        ""
      ],
      "execution_count": 70,
      "outputs": []
    },
    {
      "cell_type": "code",
      "metadata": {
        "id": "6LzAU2nPoMdg"
      },
      "source": [
        ""
      ],
      "execution_count": null,
      "outputs": []
    }
  ]
}