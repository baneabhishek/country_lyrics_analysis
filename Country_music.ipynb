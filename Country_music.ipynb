{
  "nbformat": 4,
  "nbformat_minor": 0,
  "metadata": {
    "kernelspec": {
      "name": "python3",
      "display_name": "Python 3.8.5 64-bit ('base': conda)"
    },
    "language_info": {
      "codemirror_mode": {
        "name": "ipython",
        "version": 3
      },
      "file_extension": ".py",
      "mimetype": "text/x-python",
      "name": "python",
      "nbconvert_exporter": "python",
      "pygments_lexer": "ipython3",
      "version": "3.8.5"
    },
    "interpreter": {
      "hash": "30da0f210c34841292f8223c1938a5edbe0c3af5a8e2b9354b0b65158feaead2"
    },
    "colab": {
      "name": "Country_music.ipynb",
      "provenance": [],
      "collapsed_sections": []
    }
  },
  "cells": [
    {
      "cell_type": "code",
      "metadata": {
        "colab": {
          "base_uri": "https://localhost:8080/"
        },
        "id": "8FBVwI1QnKsE",
        "outputId": "9066d9ee-43e0-43b1-88d6-7ace42bdc650"
      },
      "source": [
        "from google.colab import drive\n",
        "drive.mount('/content/drive')"
      ],
      "execution_count": 1,
      "outputs": [
        {
          "output_type": "stream",
          "name": "stdout",
          "text": [
            "Drive already mounted at /content/drive; to attempt to forcibly remount, call drive.mount(\"/content/drive\", force_remount=True).\n"
          ]
        }
      ]
    },
    {
      "cell_type": "code",
      "metadata": {
        "id": "s1fTX0xvnFLK",
        "colab": {
          "base_uri": "https://localhost:8080/"
        },
        "outputId": "6215531e-c421-4ba4-f235-b5ac8b8e1dab"
      },
      "source": [
        "import pandas as pd\n",
        "import numpy as np\n",
        "import matplotlib.pyplot as plt\n",
        "from wordcloud import WordCloud\n",
        "\n",
        "import re\n",
        "import nltk\n",
        "from nltk.tokenize import RegexpTokenizer\n",
        "nltk.download('stopwords')\n",
        "from nltk.corpus import stopwords\n",
        "\n",
        "from sklearn.feature_extraction.text import CountVectorizer, TfidfVectorizer\n",
        "from sklearn.decomposition import LatentDirichletAllocation, NMF\n",
        "\n",
        "from collections import Counter\n",
        "from imblearn.under_sampling import RandomUnderSampler\n",
        "from sklearn.utils import resample\n",
        "\n",
        "from sklearn.model_selection import train_test_split"
      ],
      "execution_count": 2,
      "outputs": [
        {
          "output_type": "stream",
          "name": "stdout",
          "text": [
            "[nltk_data] Downloading package stopwords to /root/nltk_data...\n",
            "[nltk_data]   Package stopwords is already up-to-date!\n"
          ]
        },
        {
          "output_type": "stream",
          "name": "stderr",
          "text": [
            "/usr/local/lib/python3.7/dist-packages/sklearn/externals/six.py:31: FutureWarning: The module is deprecated in version 0.21 and will be removed in version 0.23 since we've dropped support for Python 2.7. Please rely on the official version of six (https://pypi.org/project/six/).\n",
            "  \"(https://pypi.org/project/six/).\", FutureWarning)\n",
            "/usr/local/lib/python3.7/dist-packages/sklearn/utils/deprecation.py:144: FutureWarning: The sklearn.neighbors.base module is  deprecated in version 0.22 and will be removed in version 0.24. The corresponding classes / functions should instead be imported from sklearn.neighbors. Anything that cannot be imported from sklearn.neighbors is now part of the private API.\n",
            "  warnings.warn(message, FutureWarning)\n"
          ]
        }
      ]
    },
    {
      "cell_type": "code",
      "metadata": {
        "id": "OSnfyKYWnFLL"
      },
      "source": [
        "data = pd.read_excel('/content/drive/MyDrive/country_lyrics.xlsx')"
      ],
      "execution_count": 3,
      "outputs": []
    },
    {
      "cell_type": "code",
      "metadata": {
        "colab": {
          "base_uri": "https://localhost:8080/",
          "height": 335
        },
        "id": "q6q4hGC0nFLL",
        "outputId": "8f7be1b8-2a31-464b-dfe2-861136131b9e"
      },
      "source": [
        "data.head()"
      ],
      "execution_count": 4,
      "outputs": [
        {
          "output_type": "execute_result",
          "data": {
            "text/html": [
              "<div>\n",
              "<style scoped>\n",
              "    .dataframe tbody tr th:only-of-type {\n",
              "        vertical-align: middle;\n",
              "    }\n",
              "\n",
              "    .dataframe tbody tr th {\n",
              "        vertical-align: top;\n",
              "    }\n",
              "\n",
              "    .dataframe thead th {\n",
              "        text-align: right;\n",
              "    }\n",
              "</style>\n",
              "<table border=\"1\" class=\"dataframe\">\n",
              "  <thead>\n",
              "    <tr style=\"text-align: right;\">\n",
              "      <th></th>\n",
              "      <th>Song</th>\n",
              "      <th>Artist</th>\n",
              "      <th>Featuring</th>\n",
              "      <th>Entered Top 30 In:</th>\n",
              "      <th>Lyrics</th>\n",
              "      <th>Writers</th>\n",
              "      <th>Producer</th>\n",
              "      <th>Rough Order</th>\n",
              "      <th>Unnamed: 8</th>\n",
              "      <th>RULES!!!! Top 30 Country Airplay From March 2014-March 2017</th>\n",
              "    </tr>\n",
              "  </thead>\n",
              "  <tbody>\n",
              "    <tr>\n",
              "      <th>0</th>\n",
              "      <td>Wake Up Lovin You</td>\n",
              "      <td>Craig Morgan</td>\n",
              "      <td>NaN</td>\n",
              "      <td>2013</td>\n",
              "      <td>My friends call me up 'cause they know I'm dow...</td>\n",
              "      <td>Josh Osborne, Matthew Ramsey, Trevor Rosen</td>\n",
              "      <td>Craig Morgan, Phil O'Donnell</td>\n",
              "      <td>1</td>\n",
              "      <td>NaN</td>\n",
              "      <td>NaN</td>\n",
              "    </tr>\n",
              "    <tr>\n",
              "      <th>1</th>\n",
              "      <td>Young Love</td>\n",
              "      <td>Kip Moore</td>\n",
              "      <td>NaN</td>\n",
              "      <td>2013</td>\n",
              "      <td>Your daddy thought I was wrong for you, Thinki...</td>\n",
              "      <td>Kip Moore, Dan Couch, Westin Davis</td>\n",
              "      <td>Brett James</td>\n",
              "      <td>2</td>\n",
              "      <td>NaN</td>\n",
              "      <td>NaN</td>\n",
              "    </tr>\n",
              "    <tr>\n",
              "      <th>2</th>\n",
              "      <td>Beat of the Music</td>\n",
              "      <td>Brett Eldredge</td>\n",
              "      <td>NaN</td>\n",
              "      <td>2013</td>\n",
              "      <td>Well I just met you a couple hours ago My last...</td>\n",
              "      <td>Brett Eldredge, Ross Copperman, Heather Morgan</td>\n",
              "      <td>Brett Eldredge, Ross Copperman</td>\n",
              "      <td>3</td>\n",
              "      <td>NaN</td>\n",
              "      <td>NaN</td>\n",
              "    </tr>\n",
              "    <tr>\n",
              "      <th>3</th>\n",
              "      <td>The Heart of Dixie</td>\n",
              "      <td>Danielle Bradbery</td>\n",
              "      <td>NaN</td>\n",
              "      <td>2013</td>\n",
              "      <td>She had a dead-end job at the National Bank An...</td>\n",
              "      <td>Brett James, Caitlyn Smith, Troy Verges</td>\n",
              "      <td>Brett James</td>\n",
              "      <td>4</td>\n",
              "      <td>NaN</td>\n",
              "      <td>NaN</td>\n",
              "    </tr>\n",
              "    <tr>\n",
              "      <th>4</th>\n",
              "      <td>Everything I Shouldn't Be Thinking About</td>\n",
              "      <td>Thompson Square</td>\n",
              "      <td>NaN</td>\n",
              "      <td>2013</td>\n",
              "      <td>My motorcycle needs an oil change Fence needs ...</td>\n",
              "      <td>Keifer Thompson, Shawna Thompson, David Lee Mu...</td>\n",
              "      <td>RIch Redmond, Kurt Allison, Tully Kennedy, Dav...</td>\n",
              "      <td>5</td>\n",
              "      <td>NaN</td>\n",
              "      <td>NaN</td>\n",
              "    </tr>\n",
              "  </tbody>\n",
              "</table>\n",
              "</div>"
            ],
            "text/plain": [
              "                                       Song  ... RULES!!!! Top 30 Country Airplay From March 2014-March 2017\n",
              "0                         Wake Up Lovin You  ...                                                NaN         \n",
              "1                                Young Love  ...                                                NaN         \n",
              "2                         Beat of the Music  ...                                                NaN         \n",
              "3                        The Heart of Dixie  ...                                                NaN         \n",
              "4  Everything I Shouldn't Be Thinking About  ...                                                NaN         \n",
              "\n",
              "[5 rows x 10 columns]"
            ]
          },
          "metadata": {},
          "execution_count": 4
        }
      ]
    },
    {
      "cell_type": "code",
      "metadata": {
        "colab": {
          "base_uri": "https://localhost:8080/"
        },
        "id": "wk76S2V0nFLL",
        "outputId": "01c1032f-30b8-484c-f04e-afded26cf4a3"
      },
      "source": [
        "data.columns"
      ],
      "execution_count": 5,
      "outputs": [
        {
          "output_type": "execute_result",
          "data": {
            "text/plain": [
              "Index(['Song', 'Artist', 'Featuring', 'Entered Top 30 In:', 'Lyrics',\n",
              "       'Writers', 'Producer', 'Rough Order', 'Unnamed: 8',\n",
              "       'RULES!!!! Top 30 Country Airplay From March 2014-March 2017'],\n",
              "      dtype='object')"
            ]
          },
          "metadata": {},
          "execution_count": 5
        }
      ]
    },
    {
      "cell_type": "code",
      "metadata": {
        "id": "YI0Td36gnFLL"
      },
      "source": [
        "dataset = data.iloc[:,:8]"
      ],
      "execution_count": 6,
      "outputs": []
    },
    {
      "cell_type": "markdown",
      "metadata": {
        "id": "zhK5c2ccWkMj"
      },
      "source": [
        "## Analyze top artists"
      ]
    },
    {
      "cell_type": "code",
      "metadata": {
        "colab": {
          "base_uri": "https://localhost:8080/",
          "height": 355
        },
        "id": "av088ZPdnFLL",
        "outputId": "1d75da7c-27a4-456d-86db-413cfb94ee58"
      },
      "source": [
        "dataset[['Artist','Song']].groupby(['Artist']).count().sort_values(by='Song',ascending=False).reset_index().head(10)"
      ],
      "execution_count": 7,
      "outputs": [
        {
          "output_type": "execute_result",
          "data": {
            "text/html": [
              "<div>\n",
              "<style scoped>\n",
              "    .dataframe tbody tr th:only-of-type {\n",
              "        vertical-align: middle;\n",
              "    }\n",
              "\n",
              "    .dataframe tbody tr th {\n",
              "        vertical-align: top;\n",
              "    }\n",
              "\n",
              "    .dataframe thead th {\n",
              "        text-align: right;\n",
              "    }\n",
              "</style>\n",
              "<table border=\"1\" class=\"dataframe\">\n",
              "  <thead>\n",
              "    <tr style=\"text-align: right;\">\n",
              "      <th></th>\n",
              "      <th>Artist</th>\n",
              "      <th>Song</th>\n",
              "    </tr>\n",
              "  </thead>\n",
              "  <tbody>\n",
              "    <tr>\n",
              "      <th>0</th>\n",
              "      <td>Luke Bryan</td>\n",
              "      <td>16</td>\n",
              "    </tr>\n",
              "    <tr>\n",
              "      <th>1</th>\n",
              "      <td>Blake Shelton</td>\n",
              "      <td>15</td>\n",
              "    </tr>\n",
              "    <tr>\n",
              "      <th>2</th>\n",
              "      <td>Thomas Rhett</td>\n",
              "      <td>14</td>\n",
              "    </tr>\n",
              "    <tr>\n",
              "      <th>3</th>\n",
              "      <td>Jason Aldean</td>\n",
              "      <td>14</td>\n",
              "    </tr>\n",
              "    <tr>\n",
              "      <th>4</th>\n",
              "      <td>Florida Georgia Line</td>\n",
              "      <td>13</td>\n",
              "    </tr>\n",
              "    <tr>\n",
              "      <th>5</th>\n",
              "      <td>Keith Urban</td>\n",
              "      <td>12</td>\n",
              "    </tr>\n",
              "    <tr>\n",
              "      <th>6</th>\n",
              "      <td>Tim McGraw</td>\n",
              "      <td>11</td>\n",
              "    </tr>\n",
              "    <tr>\n",
              "      <th>7</th>\n",
              "      <td>Kenny Chesney</td>\n",
              "      <td>11</td>\n",
              "    </tr>\n",
              "    <tr>\n",
              "      <th>8</th>\n",
              "      <td>Eric Church</td>\n",
              "      <td>11</td>\n",
              "    </tr>\n",
              "    <tr>\n",
              "      <th>9</th>\n",
              "      <td>Cole Swindell</td>\n",
              "      <td>10</td>\n",
              "    </tr>\n",
              "  </tbody>\n",
              "</table>\n",
              "</div>"
            ],
            "text/plain": [
              "                 Artist  Song\n",
              "0            Luke Bryan    16\n",
              "1         Blake Shelton    15\n",
              "2          Thomas Rhett    14\n",
              "3          Jason Aldean    14\n",
              "4  Florida Georgia Line    13\n",
              "5           Keith Urban    12\n",
              "6            Tim McGraw    11\n",
              "7         Kenny Chesney    11\n",
              "8           Eric Church    11\n",
              "9         Cole Swindell    10"
            ]
          },
          "metadata": {},
          "execution_count": 7
        }
      ]
    },
    {
      "cell_type": "code",
      "metadata": {
        "colab": {
          "base_uri": "https://localhost:8080/",
          "height": 355
        },
        "id": "X03cumF_nFLM",
        "outputId": "def03135-e243-4b12-adef-3acb904ff260"
      },
      "source": [
        "dataset[['Producer','Song']].groupby(['Producer']).count().sort_values(by='Song',ascending=False).reset_index().head(10)"
      ],
      "execution_count": 8,
      "outputs": [
        {
          "output_type": "execute_result",
          "data": {
            "text/html": [
              "<div>\n",
              "<style scoped>\n",
              "    .dataframe tbody tr th:only-of-type {\n",
              "        vertical-align: middle;\n",
              "    }\n",
              "\n",
              "    .dataframe tbody tr th {\n",
              "        vertical-align: top;\n",
              "    }\n",
              "\n",
              "    .dataframe thead th {\n",
              "        text-align: right;\n",
              "    }\n",
              "</style>\n",
              "<table border=\"1\" class=\"dataframe\">\n",
              "  <thead>\n",
              "    <tr style=\"text-align: right;\">\n",
              "      <th></th>\n",
              "      <th>Producer</th>\n",
              "      <th>Song</th>\n",
              "    </tr>\n",
              "  </thead>\n",
              "  <tbody>\n",
              "    <tr>\n",
              "      <th>0</th>\n",
              "      <td>Dann Huff</td>\n",
              "      <td>31</td>\n",
              "    </tr>\n",
              "    <tr>\n",
              "      <th>1</th>\n",
              "      <td>Jay Joyce</td>\n",
              "      <td>27</td>\n",
              "    </tr>\n",
              "    <tr>\n",
              "      <th>2</th>\n",
              "      <td>Joey Moi</td>\n",
              "      <td>26</td>\n",
              "    </tr>\n",
              "    <tr>\n",
              "      <th>3</th>\n",
              "      <td>Scott Hendricks</td>\n",
              "      <td>23</td>\n",
              "    </tr>\n",
              "    <tr>\n",
              "      <th>4</th>\n",
              "      <td>Michael Knox</td>\n",
              "      <td>14</td>\n",
              "    </tr>\n",
              "    <tr>\n",
              "      <th>5</th>\n",
              "      <td>Ross Copperman</td>\n",
              "      <td>11</td>\n",
              "    </tr>\n",
              "    <tr>\n",
              "      <th>6</th>\n",
              "      <td>Jeff Stevens, Jody Stevens</td>\n",
              "      <td>11</td>\n",
              "    </tr>\n",
              "    <tr>\n",
              "      <th>7</th>\n",
              "      <td>Michael Carter</td>\n",
              "      <td>10</td>\n",
              "    </tr>\n",
              "    <tr>\n",
              "      <th>8</th>\n",
              "      <td>Shane McAnally</td>\n",
              "      <td>9</td>\n",
              "    </tr>\n",
              "    <tr>\n",
              "      <th>9</th>\n",
              "      <td>busbee</td>\n",
              "      <td>8</td>\n",
              "    </tr>\n",
              "  </tbody>\n",
              "</table>\n",
              "</div>"
            ],
            "text/plain": [
              "                     Producer  Song\n",
              "0                   Dann Huff    31\n",
              "1                   Jay Joyce    27\n",
              "2                    Joey Moi    26\n",
              "3             Scott Hendricks    23\n",
              "4                Michael Knox    14\n",
              "5              Ross Copperman    11\n",
              "6  Jeff Stevens, Jody Stevens    11\n",
              "7              Michael Carter    10\n",
              "8              Shane McAnally     9\n",
              "9                      busbee     8"
            ]
          },
          "metadata": {},
          "execution_count": 8
        }
      ]
    },
    {
      "cell_type": "code",
      "metadata": {
        "colab": {
          "base_uri": "https://localhost:8080/"
        },
        "id": "Szqz6jgDnFLM",
        "outputId": "a45641c5-1e00-44fb-c3d3-1ad958a6a55a"
      },
      "source": [
        "print(len(dataset.Producer.unique()))\n",
        "print(len(dataset.Artist.unique()))"
      ],
      "execution_count": 9,
      "outputs": [
        {
          "output_type": "stream",
          "name": "stdout",
          "text": [
            "180\n",
            "121\n"
          ]
        }
      ]
    },
    {
      "cell_type": "code",
      "metadata": {
        "id": "GQuX_mOQnFLM"
      },
      "source": [
        "dataset['temp'] = dataset.Producer.str.split(',')\n",
        "dataset_prod = (dataset.set_index(['Song', 'Artist', 'Featuring', 'Entered Top 30 In:', 'Lyrics','Writers', 'Producer', 'Rough Order'])['temp'].apply(pd.Series).stack().reset_index().drop('level_8', axis=1).rename(columns={0:'all_producers'}))"
      ],
      "execution_count": 10,
      "outputs": []
    },
    {
      "cell_type": "code",
      "metadata": {
        "colab": {
          "base_uri": "https://localhost:8080/",
          "height": 355
        },
        "id": "a4hpuakfnFLM",
        "outputId": "5aa4de16-94a4-4567-b8ee-26b283b39349"
      },
      "source": [
        "dataset_prod[['all_producers','Song']].groupby(['all_producers']).count().sort_values(by='Song',ascending=False).reset_index().head(10)"
      ],
      "execution_count": 11,
      "outputs": [
        {
          "output_type": "execute_result",
          "data": {
            "text/html": [
              "<div>\n",
              "<style scoped>\n",
              "    .dataframe tbody tr th:only-of-type {\n",
              "        vertical-align: middle;\n",
              "    }\n",
              "\n",
              "    .dataframe tbody tr th {\n",
              "        vertical-align: top;\n",
              "    }\n",
              "\n",
              "    .dataframe thead th {\n",
              "        text-align: right;\n",
              "    }\n",
              "</style>\n",
              "<table border=\"1\" class=\"dataframe\">\n",
              "  <thead>\n",
              "    <tr style=\"text-align: right;\">\n",
              "      <th></th>\n",
              "      <th>all_producers</th>\n",
              "      <th>Song</th>\n",
              "    </tr>\n",
              "  </thead>\n",
              "  <tbody>\n",
              "    <tr>\n",
              "      <th>0</th>\n",
              "      <td>Dann Huff</td>\n",
              "      <td>51</td>\n",
              "    </tr>\n",
              "    <tr>\n",
              "      <th>1</th>\n",
              "      <td>Joey Moi</td>\n",
              "      <td>28</td>\n",
              "    </tr>\n",
              "    <tr>\n",
              "      <th>2</th>\n",
              "      <td>Jay Joyce</td>\n",
              "      <td>27</td>\n",
              "    </tr>\n",
              "    <tr>\n",
              "      <th>3</th>\n",
              "      <td>Scott Hendricks</td>\n",
              "      <td>24</td>\n",
              "    </tr>\n",
              "    <tr>\n",
              "      <th>4</th>\n",
              "      <td>Ross Copperman</td>\n",
              "      <td>22</td>\n",
              "    </tr>\n",
              "    <tr>\n",
              "      <th>5</th>\n",
              "      <td>Jeff Stevens</td>\n",
              "      <td>15</td>\n",
              "    </tr>\n",
              "    <tr>\n",
              "      <th>6</th>\n",
              "      <td>Michael Knox</td>\n",
              "      <td>14</td>\n",
              "    </tr>\n",
              "    <tr>\n",
              "      <th>7</th>\n",
              "      <td>Zach Crowell</td>\n",
              "      <td>13</td>\n",
              "    </tr>\n",
              "    <tr>\n",
              "      <th>8</th>\n",
              "      <td>Byron Gallimore</td>\n",
              "      <td>12</td>\n",
              "    </tr>\n",
              "    <tr>\n",
              "      <th>9</th>\n",
              "      <td>busbee</td>\n",
              "      <td>12</td>\n",
              "    </tr>\n",
              "  </tbody>\n",
              "</table>\n",
              "</div>"
            ],
            "text/plain": [
              "     all_producers  Song\n",
              "0        Dann Huff    51\n",
              "1         Joey Moi    28\n",
              "2        Jay Joyce    27\n",
              "3  Scott Hendricks    24\n",
              "4   Ross Copperman    22\n",
              "5     Jeff Stevens    15\n",
              "6     Michael Knox    14\n",
              "7     Zach Crowell    13\n",
              "8  Byron Gallimore    12\n",
              "9           busbee    12"
            ]
          },
          "metadata": {},
          "execution_count": 11
        }
      ]
    },
    {
      "cell_type": "code",
      "metadata": {
        "colab": {
          "base_uri": "https://localhost:8080/",
          "height": 202
        },
        "id": "aqeWOx61nFLM",
        "outputId": "30083024-8c6c-4a33-8e8a-ff941c8b29ae"
      },
      "source": [
        "data_lyrics = data.iloc[:,4:5]\n",
        "data_lyrics.head()"
      ],
      "execution_count": 12,
      "outputs": [
        {
          "output_type": "execute_result",
          "data": {
            "text/html": [
              "<div>\n",
              "<style scoped>\n",
              "    .dataframe tbody tr th:only-of-type {\n",
              "        vertical-align: middle;\n",
              "    }\n",
              "\n",
              "    .dataframe tbody tr th {\n",
              "        vertical-align: top;\n",
              "    }\n",
              "\n",
              "    .dataframe thead th {\n",
              "        text-align: right;\n",
              "    }\n",
              "</style>\n",
              "<table border=\"1\" class=\"dataframe\">\n",
              "  <thead>\n",
              "    <tr style=\"text-align: right;\">\n",
              "      <th></th>\n",
              "      <th>Lyrics</th>\n",
              "    </tr>\n",
              "  </thead>\n",
              "  <tbody>\n",
              "    <tr>\n",
              "      <th>0</th>\n",
              "      <td>My friends call me up 'cause they know I'm dow...</td>\n",
              "    </tr>\n",
              "    <tr>\n",
              "      <th>1</th>\n",
              "      <td>Your daddy thought I was wrong for you, Thinki...</td>\n",
              "    </tr>\n",
              "    <tr>\n",
              "      <th>2</th>\n",
              "      <td>Well I just met you a couple hours ago My last...</td>\n",
              "    </tr>\n",
              "    <tr>\n",
              "      <th>3</th>\n",
              "      <td>She had a dead-end job at the National Bank An...</td>\n",
              "    </tr>\n",
              "    <tr>\n",
              "      <th>4</th>\n",
              "      <td>My motorcycle needs an oil change Fence needs ...</td>\n",
              "    </tr>\n",
              "  </tbody>\n",
              "</table>\n",
              "</div>"
            ],
            "text/plain": [
              "                                              Lyrics\n",
              "0  My friends call me up 'cause they know I'm dow...\n",
              "1  Your daddy thought I was wrong for you, Thinki...\n",
              "2  Well I just met you a couple hours ago My last...\n",
              "3  She had a dead-end job at the National Bank An...\n",
              "4  My motorcycle needs an oil change Fence needs ..."
            ]
          },
          "metadata": {},
          "execution_count": 12
        }
      ]
    },
    {
      "cell_type": "code",
      "metadata": {
        "id": "NsxxRBR9nFLM"
      },
      "source": [
        "my_stopwords = nltk.corpus.stopwords.words('english')\n",
        "word_rooter = nltk.stem.snowball.PorterStemmer(ignore_stopwords=False).stem\n",
        "my_punctuation = '!\"$%&\\'()*+,-./:;<=>?[\\\\]^_`{|}~•@'\n",
        "\n",
        "# cleaning function\n",
        "def clean_lyrics(lyrics, bigrams=False, stemm=False):\n",
        "    lyrics = lyrics.lower() # lower case\n",
        "    lyrics = re.sub('['+my_punctuation + ']+', ' ', lyrics) # strip punctuation\n",
        "    lyrics = re.sub('\\s+', ' ', lyrics) #remove double spacing\n",
        "    lyrics = re.sub('([0-9]+)', '', lyrics) # remove numbers\n",
        "    lyrics_token_list = [word for word in lyrics.split(' ') if word not in my_stopwords] # remove stopwords\n",
        "\n",
        "    if stemm:\n",
        "      lyrics_token_list = [word_rooter(word) if '#' not in word else word for word in lyrics_token_list] # apply word rooter\n",
        "    \n",
        "    if bigrams:\n",
        "        lyrics_token_list = lyrics_token_list+[lyrics_token_list[i]+'_'+lyrics_token_list[i+1]\n",
        "                                            for i in range(len(lyrics_token_list)-1)]\n",
        "    lyrics = ' '.join(lyrics_token_list)\n",
        "    return lyrics"
      ],
      "execution_count": 13,
      "outputs": []
    },
    {
      "cell_type": "code",
      "metadata": {
        "id": "6-lOO607nFLN"
      },
      "source": [
        "data_lyrics['Lyrics'] = data_lyrics.Lyrics.apply(clean_lyrics)"
      ],
      "execution_count": 14,
      "outputs": []
    },
    {
      "cell_type": "code",
      "metadata": {
        "colab": {
          "base_uri": "https://localhost:8080/",
          "height": 202
        },
        "id": "ey64HZAwpJy4",
        "outputId": "eb082e28-72ef-46d7-9f05-5d8a83e1b4f7"
      },
      "source": [
        "data_lyrics.head()"
      ],
      "execution_count": 15,
      "outputs": [
        {
          "output_type": "execute_result",
          "data": {
            "text/html": [
              "<div>\n",
              "<style scoped>\n",
              "    .dataframe tbody tr th:only-of-type {\n",
              "        vertical-align: middle;\n",
              "    }\n",
              "\n",
              "    .dataframe tbody tr th {\n",
              "        vertical-align: top;\n",
              "    }\n",
              "\n",
              "    .dataframe thead th {\n",
              "        text-align: right;\n",
              "    }\n",
              "</style>\n",
              "<table border=\"1\" class=\"dataframe\">\n",
              "  <thead>\n",
              "    <tr style=\"text-align: right;\">\n",
              "      <th></th>\n",
              "      <th>Lyrics</th>\n",
              "    </tr>\n",
              "  </thead>\n",
              "  <tbody>\n",
              "    <tr>\n",
              "      <th>0</th>\n",
              "      <td>friends call cause know take paint town help g...</td>\n",
              "    </tr>\n",
              "    <tr>\n",
              "      <th>1</th>\n",
              "      <td>daddy thought wrong thinking back mom two wron...</td>\n",
              "    </tr>\n",
              "    <tr>\n",
              "      <th>2</th>\n",
              "      <td>well met couple hours ago last night town hey ...</td>\n",
              "    </tr>\n",
              "    <tr>\n",
              "      <th>3</th>\n",
              "      <td>dead end job national bank deadbeat husband al...</td>\n",
              "    </tr>\n",
              "    <tr>\n",
              "      <th>4</th>\n",
              "      <td>motorcycle needs oil change fence needs mendin...</td>\n",
              "    </tr>\n",
              "  </tbody>\n",
              "</table>\n",
              "</div>"
            ],
            "text/plain": [
              "                                              Lyrics\n",
              "0  friends call cause know take paint town help g...\n",
              "1  daddy thought wrong thinking back mom two wron...\n",
              "2  well met couple hours ago last night town hey ...\n",
              "3  dead end job national bank deadbeat husband al...\n",
              "4  motorcycle needs oil change fence needs mendin..."
            ]
          },
          "metadata": {},
          "execution_count": 15
        }
      ]
    },
    {
      "cell_type": "code",
      "metadata": {
        "id": "3lNLkbElmYhC"
      },
      "source": [
        "def _vectorize(df, max_df, min_df, max_feat=None):\n",
        "  vectorizer = CountVectorizer(max_df=max_df, min_df=min_df, max_features=max_feat)\n",
        "  # apply transformation\n",
        "  tf = vectorizer.fit_transform(df['Lyrics']).toarray()\n",
        "  # tf_feature_names tells us what word each column in the matric represents\n",
        "  tf_feature_names = vectorizer.get_feature_names()\n",
        "  return [tf,tf_feature_names]\n",
        "\n",
        "def tf_idf(df, max_df, min_df, max_feat=None):\n",
        "  tfidf_vectorizer = TfidfVectorizer(max_df=max_df, min_df=min_df, max_features=max_feat, stop_words='english')\n",
        "  tfidf = tfidf_vectorizer.fit_transform(df['Lyrics'])\n",
        "  tfidf_feature_names = tfidf_vectorizer.get_feature_names() \n",
        "  return [tfidf,tfidf_feature_names]"
      ],
      "execution_count": 16,
      "outputs": []
    },
    {
      "cell_type": "code",
      "metadata": {
        "id": "dlrmB-JvpLre"
      },
      "source": [
        "# ## LDA the vectorizer object will be used to transform text to vector form\n",
        "# vectorizer = CountVectorizer(max_df=0.9, min_df=2, max_features=1000)\n",
        "# # apply transformation\n",
        "# tf = vectorizer.fit_transform(data_lyrics['Lyrics']).toarray()\n",
        "# # tf_feature_names tells us what word each column in the matric represents\n",
        "# tf_feature_names = vectorizer.get_feature_names()\n",
        "\n",
        "# ## NMF\n",
        "# # NMF is able to use tf-idf\n",
        "# tfidf_vectorizer = TfidfVectorizer(max_df=0.95, min_df=2, max_features=1000, stop_words='english')\n",
        "# tfidf = tfidf_vectorizer.fit_transform(data_lyrics['Lyrics'])\n",
        "# tfidf_feature_names = tfidf_vectorizer.get_feature_names()"
      ],
      "execution_count": 17,
      "outputs": []
    },
    {
      "cell_type": "markdown",
      "metadata": {
        "id": "HTXom1Xn4TJ9"
      },
      "source": [
        "## Added NMF alsong with LDA\n",
        "NMF gives better topics than the topics defined by LDA"
      ]
    },
    {
      "cell_type": "code",
      "metadata": {
        "id": "xNR1Cscsp5rP"
      },
      "source": [
        "number_of_topics = 5\n",
        "tf,tf_feature_names = _vectorize(data_lyrics, max_df=0.9, min_df=2)\n",
        "model_lda = LatentDirichletAllocation(n_components=number_of_topics, random_state=10, batch_size=32)\n",
        "tfidf,tfidf_feature_names = tf_idf(data_lyrics, max_df=0.95, min_df=2)\n",
        "model_nmf = NMF(n_components=number_of_topics, random_state=1, alpha=.1, l1_ratio=.5, init='nndsvd')"
      ],
      "execution_count": 18,
      "outputs": []
    },
    {
      "cell_type": "code",
      "metadata": {
        "colab": {
          "base_uri": "https://localhost:8080/"
        },
        "id": "nNjOcaMppFP8",
        "outputId": "d571db7f-2bf2-4b30-ccb3-df6ead3d088c"
      },
      "source": [
        "tf.shape"
      ],
      "execution_count": 19,
      "outputs": [
        {
          "output_type": "execute_result",
          "data": {
            "text/plain": [
              "(484, 2568)"
            ]
          },
          "metadata": {},
          "execution_count": 19
        }
      ]
    },
    {
      "cell_type": "code",
      "metadata": {
        "colab": {
          "base_uri": "https://localhost:8080/"
        },
        "id": "zWiMv4n-qHOS",
        "outputId": "fa7b10db-9c66-447e-9fb8-bfa7add6b478"
      },
      "source": [
        "print(model_lda.fit(tf))\n",
        "print(model_nmf.fit(tfidf))"
      ],
      "execution_count": 20,
      "outputs": [
        {
          "output_type": "stream",
          "name": "stdout",
          "text": [
            "LatentDirichletAllocation(batch_size=32, doc_topic_prior=None,\n",
            "                          evaluate_every=-1, learning_decay=0.7,\n",
            "                          learning_method='batch', learning_offset=10.0,\n",
            "                          max_doc_update_iter=100, max_iter=10,\n",
            "                          mean_change_tol=0.001, n_components=5, n_jobs=None,\n",
            "                          perp_tol=0.1, random_state=10, topic_word_prior=None,\n",
            "                          total_samples=1000000.0, verbose=0)\n",
            "NMF(alpha=0.1, beta_loss='frobenius', init='nndsvd', l1_ratio=0.5, max_iter=200,\n",
            "    n_components=5, random_state=1, shuffle=False, solver='cd', tol=0.0001,\n",
            "    verbose=0)\n"
          ]
        }
      ]
    },
    {
      "cell_type": "code",
      "metadata": {
        "id": "IVGR5nHQqI_G"
      },
      "source": [
        "def display_topics(model, feature_names, no_top_words):\n",
        "    topic_dict = {}\n",
        "    for topic_idx, topic in enumerate(model.components_):\n",
        "        topic_dict[\"Topic %d words\" % (topic_idx)]= ['{}'.format(feature_names[i])\n",
        "                        for i in topic.argsort()[:-no_top_words - 1:-1]]\n",
        "        topic_dict[\"Topic %d weights\" % (topic_idx)]= ['{:.1f}'.format(topic[i])\n",
        "                        for i in topic.argsort()[:-no_top_words - 1:-1]]\n",
        "    return pd.DataFrame(topic_dict)"
      ],
      "execution_count": 21,
      "outputs": []
    },
    {
      "cell_type": "code",
      "metadata": {
        "colab": {
          "base_uri": "https://localhost:8080/",
          "height": 355
        },
        "id": "ZwcfVu2WqaVl",
        "outputId": "5eef327c-b04a-4c3b-9b3f-dcde14e78afd"
      },
      "source": [
        "no_top_words = 10\n",
        "display_topics(model_lda, tf_feature_names, no_top_words)"
      ],
      "execution_count": 22,
      "outputs": [
        {
          "output_type": "execute_result",
          "data": {
            "text/html": [
              "<div>\n",
              "<style scoped>\n",
              "    .dataframe tbody tr th:only-of-type {\n",
              "        vertical-align: middle;\n",
              "    }\n",
              "\n",
              "    .dataframe tbody tr th {\n",
              "        vertical-align: top;\n",
              "    }\n",
              "\n",
              "    .dataframe thead th {\n",
              "        text-align: right;\n",
              "    }\n",
              "</style>\n",
              "<table border=\"1\" class=\"dataframe\">\n",
              "  <thead>\n",
              "    <tr style=\"text-align: right;\">\n",
              "      <th></th>\n",
              "      <th>Topic 0 words</th>\n",
              "      <th>Topic 0 weights</th>\n",
              "      <th>Topic 1 words</th>\n",
              "      <th>Topic 1 weights</th>\n",
              "      <th>Topic 2 words</th>\n",
              "      <th>Topic 2 weights</th>\n",
              "      <th>Topic 3 words</th>\n",
              "      <th>Topic 3 weights</th>\n",
              "      <th>Topic 4 words</th>\n",
              "      <th>Topic 4 weights</th>\n",
              "    </tr>\n",
              "  </thead>\n",
              "  <tbody>\n",
              "    <tr>\n",
              "      <th>0</th>\n",
              "      <td>back</td>\n",
              "      <td>306.6</td>\n",
              "      <td>like</td>\n",
              "      <td>591.4</td>\n",
              "      <td>oh</td>\n",
              "      <td>372.6</td>\n",
              "      <td>got</td>\n",
              "      <td>123.8</td>\n",
              "      <td>love</td>\n",
              "      <td>336.6</td>\n",
              "    </tr>\n",
              "    <tr>\n",
              "      <th>1</th>\n",
              "      <td>yeah</td>\n",
              "      <td>297.6</td>\n",
              "      <td>yeah</td>\n",
              "      <td>300.6</td>\n",
              "      <td>got</td>\n",
              "      <td>322.0</td>\n",
              "      <td>one</td>\n",
              "      <td>113.9</td>\n",
              "      <td>gonna</td>\n",
              "      <td>313.7</td>\n",
              "    </tr>\n",
              "    <tr>\n",
              "      <th>2</th>\n",
              "      <td>wanna</td>\n",
              "      <td>280.2</td>\n",
              "      <td>got</td>\n",
              "      <td>241.3</td>\n",
              "      <td>like</td>\n",
              "      <td>227.8</td>\n",
              "      <td>need</td>\n",
              "      <td>92.3</td>\n",
              "      <td>know</td>\n",
              "      <td>246.4</td>\n",
              "    </tr>\n",
              "    <tr>\n",
              "      <th>3</th>\n",
              "      <td>girl</td>\n",
              "      <td>266.6</td>\n",
              "      <td>know</td>\n",
              "      <td>207.5</td>\n",
              "      <td>little</td>\n",
              "      <td>210.4</td>\n",
              "      <td>em</td>\n",
              "      <td>89.4</td>\n",
              "      <td>get</td>\n",
              "      <td>186.4</td>\n",
              "    </tr>\n",
              "    <tr>\n",
              "      <th>4</th>\n",
              "      <td>like</td>\n",
              "      <td>266.2</td>\n",
              "      <td>little</td>\n",
              "      <td>205.7</td>\n",
              "      <td>love</td>\n",
              "      <td>208.4</td>\n",
              "      <td>good</td>\n",
              "      <td>87.5</td>\n",
              "      <td>girl</td>\n",
              "      <td>180.5</td>\n",
              "    </tr>\n",
              "    <tr>\n",
              "      <th>5</th>\n",
              "      <td>little</td>\n",
              "      <td>255.2</td>\n",
              "      <td>get</td>\n",
              "      <td>181.9</td>\n",
              "      <td>baby</td>\n",
              "      <td>200.5</td>\n",
              "      <td>round</td>\n",
              "      <td>70.2</td>\n",
              "      <td>never</td>\n",
              "      <td>176.0</td>\n",
              "    </tr>\n",
              "    <tr>\n",
              "      <th>6</th>\n",
              "      <td>baby</td>\n",
              "      <td>229.8</td>\n",
              "      <td>oh</td>\n",
              "      <td>178.6</td>\n",
              "      <td>know</td>\n",
              "      <td>190.3</td>\n",
              "      <td>night</td>\n",
              "      <td>64.9</td>\n",
              "      <td>like</td>\n",
              "      <td>170.7</td>\n",
              "    </tr>\n",
              "    <tr>\n",
              "      <th>7</th>\n",
              "      <td>time</td>\n",
              "      <td>201.2</td>\n",
              "      <td>baby</td>\n",
              "      <td>162.1</td>\n",
              "      <td>yeah</td>\n",
              "      <td>182.6</td>\n",
              "      <td>day</td>\n",
              "      <td>60.9</td>\n",
              "      <td>go</td>\n",
              "      <td>166.8</td>\n",
              "    </tr>\n",
              "    <tr>\n",
              "      <th>8</th>\n",
              "      <td>know</td>\n",
              "      <td>199.3</td>\n",
              "      <td>right</td>\n",
              "      <td>151.9</td>\n",
              "      <td>somebody</td>\n",
              "      <td>177.0</td>\n",
              "      <td>yeah</td>\n",
              "      <td>59.7</td>\n",
              "      <td>yeah</td>\n",
              "      <td>156.6</td>\n",
              "    </tr>\n",
              "    <tr>\n",
              "      <th>9</th>\n",
              "      <td>every</td>\n",
              "      <td>198.8</td>\n",
              "      <td>way</td>\n",
              "      <td>147.2</td>\n",
              "      <td>girl</td>\n",
              "      <td>162.3</td>\n",
              "      <td>gone</td>\n",
              "      <td>57.8</td>\n",
              "      <td>one</td>\n",
              "      <td>138.3</td>\n",
              "    </tr>\n",
              "  </tbody>\n",
              "</table>\n",
              "</div>"
            ],
            "text/plain": [
              "  Topic 0 words Topic 0 weights  ... Topic 4 words Topic 4 weights\n",
              "0          back           306.6  ...          love           336.6\n",
              "1          yeah           297.6  ...         gonna           313.7\n",
              "2         wanna           280.2  ...          know           246.4\n",
              "3          girl           266.6  ...           get           186.4\n",
              "4          like           266.2  ...          girl           180.5\n",
              "5        little           255.2  ...         never           176.0\n",
              "6          baby           229.8  ...          like           170.7\n",
              "7          time           201.2  ...            go           166.8\n",
              "8          know           199.3  ...          yeah           156.6\n",
              "9         every           198.8  ...           one           138.3\n",
              "\n",
              "[10 rows x 10 columns]"
            ]
          },
          "metadata": {},
          "execution_count": 22
        }
      ]
    },
    {
      "cell_type": "code",
      "metadata": {
        "colab": {
          "base_uri": "https://localhost:8080/",
          "height": 355
        },
        "id": "3YUDoRleqclj",
        "outputId": "c4e4680a-2685-462f-83d5-e15f1bfb7df1"
      },
      "source": [
        "no_top_words = 10\n",
        "display_topics(model_nmf, tf_feature_names, no_top_words)"
      ],
      "execution_count": 23,
      "outputs": [
        {
          "output_type": "execute_result",
          "data": {
            "text/html": [
              "<div>\n",
              "<style scoped>\n",
              "    .dataframe tbody tr th:only-of-type {\n",
              "        vertical-align: middle;\n",
              "    }\n",
              "\n",
              "    .dataframe tbody tr th {\n",
              "        vertical-align: top;\n",
              "    }\n",
              "\n",
              "    .dataframe thead th {\n",
              "        text-align: right;\n",
              "    }\n",
              "</style>\n",
              "<table border=\"1\" class=\"dataframe\">\n",
              "  <thead>\n",
              "    <tr style=\"text-align: right;\">\n",
              "      <th></th>\n",
              "      <th>Topic 0 words</th>\n",
              "      <th>Topic 0 weights</th>\n",
              "      <th>Topic 1 words</th>\n",
              "      <th>Topic 1 weights</th>\n",
              "      <th>Topic 2 words</th>\n",
              "      <th>Topic 2 weights</th>\n",
              "      <th>Topic 3 words</th>\n",
              "      <th>Topic 3 weights</th>\n",
              "      <th>Topic 4 words</th>\n",
              "      <th>Topic 4 weights</th>\n",
              "    </tr>\n",
              "  </thead>\n",
              "  <tbody>\n",
              "    <tr>\n",
              "      <th>0</th>\n",
              "      <td>last</td>\n",
              "      <td>0.6</td>\n",
              "      <td>montana</td>\n",
              "      <td>1.8</td>\n",
              "      <td>lighters</td>\n",
              "      <td>1.7</td>\n",
              "      <td>touch</td>\n",
              "      <td>1.7</td>\n",
              "      <td>shout</td>\n",
              "      <td>1.5</td>\n",
              "    </tr>\n",
              "    <tr>\n",
              "      <th>1</th>\n",
              "      <td>football</td>\n",
              "      <td>0.5</td>\n",
              "      <td>vacation</td>\n",
              "      <td>0.2</td>\n",
              "      <td>motown</td>\n",
              "      <td>0.6</td>\n",
              "      <td>lives</td>\n",
              "      <td>0.6</td>\n",
              "      <td>fruity</td>\n",
              "      <td>0.3</td>\n",
              "    </tr>\n",
              "    <tr>\n",
              "      <th>2</th>\n",
              "      <td>front</td>\n",
              "      <td>0.5</td>\n",
              "      <td>video</td>\n",
              "      <td>0.1</td>\n",
              "      <td>groove</td>\n",
              "      <td>0.2</td>\n",
              "      <td>fresh</td>\n",
              "      <td>0.4</td>\n",
              "      <td>jail</td>\n",
              "      <td>0.2</td>\n",
              "    </tr>\n",
              "    <tr>\n",
              "      <th>3</th>\n",
              "      <td>attention</td>\n",
              "      <td>0.5</td>\n",
              "      <td>closing</td>\n",
              "      <td>0.1</td>\n",
              "      <td>dresses</td>\n",
              "      <td>0.2</td>\n",
              "      <td>living</td>\n",
              "      <td>0.2</td>\n",
              "      <td>john</td>\n",
              "      <td>0.1</td>\n",
              "    </tr>\n",
              "    <tr>\n",
              "      <th>4</th>\n",
              "      <td>wasted</td>\n",
              "      <td>0.5</td>\n",
              "      <td>month</td>\n",
              "      <td>0.1</td>\n",
              "      <td>fresh</td>\n",
              "      <td>0.2</td>\n",
              "      <td>boot</td>\n",
              "      <td>0.1</td>\n",
              "      <td>cuz</td>\n",
              "      <td>0.1</td>\n",
              "    </tr>\n",
              "    <tr>\n",
              "      <th>5</th>\n",
              "      <td>john</td>\n",
              "      <td>0.5</td>\n",
              "      <td>lost</td>\n",
              "      <td>0.1</td>\n",
              "      <td>beautiful</td>\n",
              "      <td>0.1</td>\n",
              "      <td>choice</td>\n",
              "      <td>0.1</td>\n",
              "      <td>strings</td>\n",
              "      <td>0.1</td>\n",
              "    </tr>\n",
              "    <tr>\n",
              "      <th>6</th>\n",
              "      <td>lead</td>\n",
              "      <td>0.4</td>\n",
              "      <td>style</td>\n",
              "      <td>0.1</td>\n",
              "      <td>lace</td>\n",
              "      <td>0.1</td>\n",
              "      <td>droppin</td>\n",
              "      <td>0.1</td>\n",
              "      <td>footsteps</td>\n",
              "      <td>0.1</td>\n",
              "    </tr>\n",
              "    <tr>\n",
              "      <th>7</th>\n",
              "      <td>swagger</td>\n",
              "      <td>0.3</td>\n",
              "      <td>grandpa</td>\n",
              "      <td>0.1</td>\n",
              "      <td>break</td>\n",
              "      <td>0.1</td>\n",
              "      <td>kid</td>\n",
              "      <td>0.1</td>\n",
              "      <td>loose</td>\n",
              "      <td>0.1</td>\n",
              "    </tr>\n",
              "    <tr>\n",
              "      <th>8</th>\n",
              "      <td>pulled</td>\n",
              "      <td>0.3</td>\n",
              "      <td>twisted</td>\n",
              "      <td>0.1</td>\n",
              "      <td>candles</td>\n",
              "      <td>0.1</td>\n",
              "      <td>daze</td>\n",
              "      <td>0.1</td>\n",
              "      <td>laughing</td>\n",
              "      <td>0.1</td>\n",
              "    </tr>\n",
              "    <tr>\n",
              "      <th>9</th>\n",
              "      <td>know</td>\n",
              "      <td>0.3</td>\n",
              "      <td>poor</td>\n",
              "      <td>0.1</td>\n",
              "      <td>guys</td>\n",
              "      <td>0.1</td>\n",
              "      <td>tailgate</td>\n",
              "      <td>0.1</td>\n",
              "      <td>found</td>\n",
              "      <td>0.0</td>\n",
              "    </tr>\n",
              "  </tbody>\n",
              "</table>\n",
              "</div>"
            ],
            "text/plain": [
              "  Topic 0 words Topic 0 weights  ... Topic 4 words Topic 4 weights\n",
              "0          last             0.6  ...         shout             1.5\n",
              "1      football             0.5  ...        fruity             0.3\n",
              "2         front             0.5  ...          jail             0.2\n",
              "3     attention             0.5  ...          john             0.1\n",
              "4        wasted             0.5  ...           cuz             0.1\n",
              "5          john             0.5  ...       strings             0.1\n",
              "6          lead             0.4  ...     footsteps             0.1\n",
              "7       swagger             0.3  ...         loose             0.1\n",
              "8        pulled             0.3  ...      laughing             0.1\n",
              "9          know             0.3  ...         found             0.0\n",
              "\n",
              "[10 rows x 10 columns]"
            ]
          },
          "metadata": {},
          "execution_count": 23
        }
      ]
    },
    {
      "cell_type": "markdown",
      "metadata": {
        "id": "mOoEuF6P4dlt"
      },
      "source": [
        "## Clustering the lyrics \n",
        "Do a K-means and hierarchical clustering on the lyrics to find similar songs.\n",
        "Do I need clustering? check"
      ]
    },
    {
      "cell_type": "code",
      "metadata": {
        "id": "_JnSeMT4zh7B"
      },
      "source": [
        ""
      ],
      "execution_count": 23,
      "outputs": []
    },
    {
      "cell_type": "markdown",
      "metadata": {
        "id": "EHlS_XlU57HE"
      },
      "source": [
        "## Adding new lyrics \n",
        "Adding data for other genres to create a classification model by identifying country songs from the lyrics. Getting data from data.world https://data.world/typhon/billboard-hot-100-songs-2000-2018-w-spotify-data-lyrics\n",
        "The data has lyrics and genres for mostly pop and rock songs. This should make the total data imbalanced and difficult for classification.\n"
      ]
    },
    {
      "cell_type": "code",
      "metadata": {
        "colab": {
          "base_uri": "https://localhost:8080/"
        },
        "id": "uqFrNwcB9-Kw",
        "outputId": "4d582de1-366c-4da2-befb-93b9d5ba413a"
      },
      "source": [
        "## check the encoding of the file\n",
        "import chardet\n",
        "with open('/content/drive/MyDrive/lyrics-data.csv', 'rb') as rawdata:\n",
        "    result = chardet.detect(rawdata.read(100000))\n",
        "result"
      ],
      "execution_count": 24,
      "outputs": [
        {
          "output_type": "execute_result",
          "data": {
            "text/plain": [
              "{'confidence': 0.99, 'encoding': 'utf-8', 'language': ''}"
            ]
          },
          "metadata": {},
          "execution_count": 24
        }
      ]
    },
    {
      "cell_type": "code",
      "metadata": {
        "id": "DTtrA00r6J4x"
      },
      "source": [
        "new_lyrics = pd.read_csv('/content/drive/MyDrive/lyrics-data.csv')"
      ],
      "execution_count": 25,
      "outputs": []
    },
    {
      "cell_type": "code",
      "metadata": {
        "id": "shhVuo7R9Miw"
      },
      "source": [
        "new_lyrics = new_lyrics.iloc[:,3:4]\n",
        "new_lyrics['Lyric'] = new_lyrics.Lyric.apply(clean_lyrics)"
      ],
      "execution_count": 26,
      "outputs": []
    },
    {
      "cell_type": "code",
      "metadata": {
        "id": "Apa_PRHRe3Yd"
      },
      "source": [
        "# create a new column with \n",
        "data_lyrics['label'] = 1\n",
        "new_lyrics['label'] = 0"
      ],
      "execution_count": 27,
      "outputs": []
    },
    {
      "cell_type": "code",
      "metadata": {
        "id": "KVrXDNpGiEyP"
      },
      "source": [
        "data_lyrics.columns\n",
        "data_lyrics = data_lyrics.append(new_lyrics.rename(columns={'Lyric':'Lyrics'}), ignore_index=True)"
      ],
      "execution_count": 28,
      "outputs": []
    },
    {
      "cell_type": "markdown",
      "metadata": {
        "id": "f14D2WUnX_3l"
      },
      "source": [
        "Less than 1 percent songs are from the country genre. This would create problems for classification. "
      ]
    },
    {
      "cell_type": "code",
      "metadata": {
        "colab": {
          "base_uri": "https://localhost:8080/"
        },
        "id": "Sx7jgassXdLT",
        "outputId": "bdd822b3-2a09-4716-a97c-c6d74fdd1265"
      },
      "source": [
        "(data_lyrics.label.value_counts()/len(data_lyrics))*100"
      ],
      "execution_count": 29,
      "outputs": [
        {
          "output_type": "execute_result",
          "data": {
            "text/plain": [
              "0    99.579872\n",
              "1     0.420128\n",
              "Name: label, dtype: float64"
            ]
          },
          "metadata": {},
          "execution_count": 29
        }
      ]
    },
    {
      "cell_type": "markdown",
      "metadata": {
        "id": "1SOAjDPljc4X"
      },
      "source": [
        "## Classifying the lyrics\n",
        "Trying to classify songs into country and non country based on lyrics alone. "
      ]
    },
    {
      "cell_type": "markdown",
      "metadata": {
        "id": "repMc8wekSnb"
      },
      "source": [
        "### Exploring data"
      ]
    },
    {
      "cell_type": "code",
      "metadata": {
        "id": "y8XATqZNfvkB"
      },
      "source": [
        "def get_num_words_per_sample(sample_texts):\n",
        "    \"\"\"Returns the median number of words per sample given corpus.\n",
        "\n",
        "    # Arguments\n",
        "        sample_texts: list, sample texts.\n",
        "\n",
        "    # Returns\n",
        "        int, median number of words per sample.\n",
        "    \"\"\"\n",
        "    num_words = [len(s.split()) for s in sample_texts]\n",
        "    return np.median(num_words)\n",
        "\n",
        "def song_length_distribution(data_lyrics):\n",
        "  lyrics_length = list(data_lyrics.Lyrics.str.len())\n",
        "  plt.hist(lyrics_length, 50)\n",
        "  plt.xlabel('Length of a song')\n",
        "  plt.ylabel('Number of songs')\n",
        "  plt.title('Song length distribution')\n",
        "  plt.show()"
      ],
      "execution_count": 30,
      "outputs": []
    },
    {
      "cell_type": "markdown",
      "metadata": {
        "id": "sFagg1d0pv1c"
      },
      "source": [
        "Country songs seem to have fewer words than songs from other genres"
      ]
    },
    {
      "cell_type": "code",
      "metadata": {
        "colab": {
          "base_uri": "https://localhost:8080/",
          "height": 573
        },
        "id": "Yjp03IJ-hhL8",
        "outputId": "b6a1434a-5b14-4817-8823-d2b544a62581"
      },
      "source": [
        "song_length_distribution(data_lyrics[data_lyrics.label == 1])\n",
        "song_length_distribution(data_lyrics[data_lyrics.label == 0])"
      ],
      "execution_count": 31,
      "outputs": [
        {
          "output_type": "display_data",
          "data": {
            "image/png": "[encoded data removed]",
            "text/plain": [
              "<Figure size 432x288 with 1 Axes>"
            ]
          },
          "metadata": {
            "needs_background": "light"
          }
        },
        {
          "output_type": "display_data",
          "data": {
            "image/png": "[encoded data removed]",
            "text/plain": [
              "<Figure size 432x288 with 1 Axes>"
            ]
          },
          "metadata": {
            "needs_background": "light"
          }
        }
      ]
    },
    {
      "cell_type": "markdown",
      "metadata": {
        "id": "dkBb2UONZSWK"
      },
      "source": [
        "### Word cloud for Country and Non-country songs\n",
        "No real topic from non-country songs which probably makes sense because there are songs from all different kind of genres but life seems to be the most common word. Country songs seem to have words such as 'girl','baby','like','love','heart' which suggests maybe those are all related to love/heartbreak "
      ]
    },
    {
      "cell_type": "code",
      "metadata": {
        "id": "RpZ5pH2Vagcm"
      },
      "source": [
        "def gen_wrd_cld(all_lyrics):\n",
        "  all_lyrics = ' '.join(all_lyrics)\n",
        "  wrd_cld = WordCloud(stopwords=['know','got']).generate(str(all_lyrics))\n",
        "  plt.imshow(wrd_cld)\n",
        "  plt.axis(\"off\")\n",
        "  plt.show()"
      ],
      "execution_count": 32,
      "outputs": []
    },
    {
      "cell_type": "code",
      "metadata": {
        "id": "yzyXsjZDiPEd"
      },
      "source": [
        "all_lyrics_cty = data_lyrics[data_lyrics.label == 1].Lyrics.values\n",
        "all_lyrics_n_cty = data_lyrics[data_lyrics.label == 0].Lyrics.values"
      ],
      "execution_count": 33,
      "outputs": []
    },
    {
      "cell_type": "code",
      "metadata": {
        "colab": {
          "base_uri": "https://localhost:8080/",
          "height": 378
        },
        "id": "6LzAU2nPoMdg",
        "outputId": "18524cd0-2461-4785-f0e9-f48c7ad581be"
      },
      "source": [
        "gen_wrd_cld(all_lyrics_cty)\n",
        "gen_wrd_cld(all_lyrics_n_cty)"
      ],
      "execution_count": 34,
      "outputs": [
        {
          "output_type": "display_data",
          "data": {
            "image/png": "[encoded data removed]",
            "text/plain": [
              "<Figure size 432x288 with 1 Axes>"
            ]
          },
          "metadata": {
            "needs_background": "light"
          }
        },
        {
          "output_type": "display_data",
          "data": {
            "image/png": "[encoded data removed]",
            "text/plain": [
              "<Figure size 432x288 with 1 Axes>"
            ]
          },
          "metadata": {
            "needs_background": "light"
          }
        }
      ]
    },
    {
      "cell_type": "markdown",
      "metadata": {
        "id": "fXIGp37Lg0kv"
      },
      "source": [
        "### Undersampling the data\n",
        "Creating a new dataset which is less imbalanced for classification models. 99.5 to 0.5 ratio data would not classify anything from the minority class and end up classifying all the songs as non country. "
      ]
    },
    {
      "cell_type": "code",
      "metadata": {
        "colab": {
          "base_uri": "https://localhost:8080/"
        },
        "id": "dwa198daaOlA",
        "outputId": "d5b99034-630f-4c8e-f9fa-91bf1d2d37a2"
      },
      "source": [
        "## Using Imblearn\n",
        "X = data_lyrics.Lyrics\n",
        "## reshaping to (rows,1) instead of (rows,)\n",
        "X = np.array(X).reshape(-1,1)\n",
        "y = data_lyrics.label\n",
        "\n",
        "undersample = RandomUnderSampler(sampling_strategy=0.5)\n",
        "X_under, y_under = undersample.fit_resample(X, y)"
      ],
      "execution_count": 40,
      "outputs": [
        {
          "output_type": "stream",
          "name": "stderr",
          "text": [
            "/usr/local/lib/python3.7/dist-packages/sklearn/utils/deprecation.py:87: FutureWarning: Function safe_indexing is deprecated; safe_indexing is deprecated in version 0.22 and will be removed in version 0.24.\n",
            "  warnings.warn(msg, category=FutureWarning)\n"
          ]
        }
      ]
    },
    {
      "cell_type": "code",
      "metadata": {
        "colab": {
          "base_uri": "https://localhost:8080/"
        },
        "id": "ndnZNNFLksf0",
        "outputId": "057b4585-11a9-4c41-ba18-82234352fd82"
      },
      "source": [
        "print('Old ratio:',Counter(y))\n",
        "print('New ratio',Counter(y_under))"
      ],
      "execution_count": 69,
      "outputs": [
        {
          "output_type": "stream",
          "name": "stdout",
          "text": [
            "Old ratio: Counter({0: 114719, 1: 484})\n",
            "New ratio Counter({0: 968, 1: 484})\n"
          ]
        }
      ]
    },
    {
      "cell_type": "markdown",
      "metadata": {
        "id": "gTPc0V8ukI4g"
      },
      "source": [
        "Undersampling with pandas instead of imblearn"
      ]
    },
    {
      "cell_type": "code",
      "metadata": {
        "id": "31gjrdvRk2aN"
      },
      "source": [
        "# Separate majority and minority classes\n",
        "df_majority = data_lyrics[data_lyrics.label==0]\n",
        "df_minority = data_lyrics[data_lyrics.label==1]\n",
        "## twice the number of country songs \n",
        "df_majority_downsampled = resample(df_majority, replace=False, n_samples=len(data_lyrics[data_lyrics.label==1])*2, random_state=54)\n",
        "\n",
        "# Combine minority class with downsampled majority class\n",
        "df_downsampled = pd.concat([df_majority_downsampled, df_minority])"
      ],
      "execution_count": 35,
      "outputs": []
    },
    {
      "cell_type": "code",
      "metadata": {
        "colab": {
          "base_uri": "https://localhost:8080/"
        },
        "id": "JFxnIsvamRew",
        "outputId": "27833de4-7c2e-4e23-a318-6659f9e599e9"
      },
      "source": [
        "df_downsampled.reset_index(inplace=True)\n",
        "df_downsampled.label.value_counts()"
      ],
      "execution_count": 36,
      "outputs": [
        {
          "output_type": "execute_result",
          "data": {
            "text/plain": [
              "0    968\n",
              "1    484\n",
              "Name: label, dtype: int64"
            ]
          },
          "metadata": {},
          "execution_count": 36
        }
      ]
    },
    {
      "cell_type": "markdown",
      "metadata": {
        "id": "FPoycRvHnBjo"
      },
      "source": [
        "### Building features and models\n",
        "Using countvectorizer and tfidf on the entire data to create features"
      ]
    },
    {
      "cell_type": "code",
      "metadata": {
        "id": "BZHY9zEOmbjz"
      },
      "source": [
        "X,feat_names = tf_idf(df_downsampled,max_df=0.9,min_df=2)\n",
        "y = df_downsampled['label']"
      ],
      "execution_count": 37,
      "outputs": []
    },
    {
      "cell_type": "code",
      "metadata": {
        "colab": {
          "base_uri": "https://localhost:8080/"
        },
        "id": "EwiKFrlumg7a",
        "outputId": "c6e5096f-0407-490c-d948-920a0d7a3724"
      },
      "source": [
        "X_train, X_test, y_train, y_test = train_test_split(X, y, test_size=0.25, random_state=65)\n",
        "print(f\"Training target statistics: {Counter(y_train)}\")\n",
        "print(f\"Testing target statistics: {Counter(y_test)}\")"
      ],
      "execution_count": 38,
      "outputs": [
        {
          "output_type": "stream",
          "name": "stdout",
          "text": [
            "Training target statistics: Counter({0: 725, 1: 364})\n",
            "Testing target statistics: Counter({0: 243, 1: 120})\n"
          ]
        }
      ]
    },
    {
      "cell_type": "markdown",
      "metadata": {
        "id": "zcxd6YfbyueQ"
      },
      "source": [
        "### Models"
      ]
    },
    {
      "cell_type": "code",
      "metadata": {
        "id": "dlVPdnJWqEdd"
      },
      "source": [
        "from sklearn.linear_model import LogisticRegression\n",
        "from sklearn.naive_bayes import MultinomialNB\n",
        "from sklearn.metrics import classification_report, f1_score, accuracy_score, confusion_matrix\n",
        "from sklearn.metrics import roc_curve, auc, roc_auc_score"
      ],
      "execution_count": 39,
      "outputs": []
    },
    {
      "cell_type": "code",
      "metadata": {
        "id": "gXl6_QTv6NdD"
      },
      "source": [
        "def eval_metrics(classifier, X_test, y_predict):\n",
        "  ## probabilities of each class, [:,1] for probabilities of 1\n",
        "  y_prob = classifier.predict_proba(X_test)[:,1]\n",
        "  fpr,tpr,threshold = roc_curve(y_test, y_prob)\n",
        "  print(classification_report(y_true=y_test, y_pred=y_predict))\n",
        "  print('----------------------------------------------------------')\n",
        "  print(confusion_matrix(y_true=y_test, y_pred=y_predict))\n",
        "  print('----------------------------------------------------------')\n",
        "  print('AUC:',auc(fpr,tpr))"
      ],
      "execution_count": 40,
      "outputs": []
    },
    {
      "cell_type": "markdown",
      "metadata": {
        "id": "kBo3PZXN6H6G"
      },
      "source": [
        "#### Logistic\n",
        "Recall rate is not that high which means the model did not predict almost 50% of the country songs. However, precision was decent"
      ]
    },
    {
      "cell_type": "code",
      "metadata": {
        "colab": {
          "base_uri": "https://localhost:8080/"
        },
        "id": "Ej422EHYwxpZ",
        "outputId": "1a14e708-a8ac-4440-c2d1-c9b3dc559383"
      },
      "source": [
        "classifier = LogisticRegression(solver='liblinear', penalty='l2')\n",
        "classifier.fit(X_train, y_train)\n",
        "score = classifier.score(X_test, y_test)\n",
        "print(\"Accuracy:\", score)"
      ],
      "execution_count": 41,
      "outputs": [
        {
          "output_type": "stream",
          "name": "stdout",
          "text": [
            "Accuracy: 0.8099173553719008\n"
          ]
        }
      ]
    },
    {
      "cell_type": "code",
      "metadata": {
        "colab": {
          "base_uri": "https://localhost:8080/"
        },
        "id": "qYHNaime5vLB",
        "outputId": "7264ce58-9de6-4c0a-8ae2-92335d725806"
      },
      "source": [
        "y_pred_logistic = classifier.predict(X_test)\n",
        "eval_metrics(classifier=classifier, X_test=X_test, y_predict=y_pred_logistic)"
      ],
      "execution_count": 43,
      "outputs": [
        {
          "output_type": "stream",
          "name": "stdout",
          "text": [
            "              precision    recall  f1-score   support\n",
            "\n",
            "           0       0.80      0.96      0.87       243\n",
            "           1       0.86      0.51      0.64       120\n",
            "\n",
            "    accuracy                           0.81       363\n",
            "   macro avg       0.83      0.73      0.75       363\n",
            "weighted avg       0.82      0.81      0.79       363\n",
            "\n",
            "----------------------------------------------------------\n",
            "[[233  10]\n",
            " [ 59  61]]\n",
            "----------------------------------------------------------\n",
            "AUC: 0.926440329218107\n"
          ]
        }
      ]
    },
    {
      "cell_type": "markdown",
      "metadata": {
        "id": "fLhWtZgBAf_8"
      },
      "source": [
        "Naive Bayes"
      ]
    },
    {
      "cell_type": "code",
      "metadata": {
        "colab": {
          "base_uri": "https://localhost:8080/"
        },
        "id": "9mEjpCoj7UdT",
        "outputId": "92161cf3-573a-45f6-e107-391727bb8bca"
      },
      "source": [
        "classifier_nb = MultinomialNB()\n",
        "classifier_nb.fit(X_train, y_train) \n",
        "score = classifier_nb.score(X_test, y_test)\n",
        "print(\"Accuracy:\", score)"
      ],
      "execution_count": 45,
      "outputs": [
        {
          "output_type": "stream",
          "name": "stdout",
          "text": [
            "Accuracy: 0.7548209366391184\n"
          ]
        }
      ]
    },
    {
      "cell_type": "code",
      "metadata": {
        "colab": {
          "base_uri": "https://localhost:8080/"
        },
        "id": "VtlhnvoBBJqI",
        "outputId": "ec4317eb-56be-4439-e348-77b6447f90e5"
      },
      "source": [
        "y_pred_nb = classifier_nb.predict(X_test)\n",
        "eval_metrics(classifier=classifier_nb, X_test=X_test, y_predict=y_pred_nb)"
      ],
      "execution_count": 46,
      "outputs": [
        {
          "output_type": "stream",
          "name": "stdout",
          "text": [
            "              precision    recall  f1-score   support\n",
            "\n",
            "           0       0.74      0.99      0.84       243\n",
            "           1       0.92      0.28      0.43       120\n",
            "\n",
            "    accuracy                           0.75       363\n",
            "   macro avg       0.83      0.64      0.64       363\n",
            "weighted avg       0.80      0.75      0.71       363\n",
            "\n",
            "----------------------------------------------------------\n",
            "[[240   3]\n",
            " [ 86  34]]\n",
            "----------------------------------------------------------\n",
            "AUC: 0.9014060356652949\n"
          ]
        }
      ]
    },
    {
      "cell_type": "code",
      "metadata": {
        "id": "p6NIxW49BUXT"
      },
      "source": [
        ""
      ],
      "execution_count": null,
      "outputs": []
    }
  ]
}